{
 "cells": [
  {
   "cell_type": "markdown",
   "metadata": {},
   "source": [
    "#### __Taller I: Ciencia de Datos para Auditores 2024/2025__\n",
    "##### Duración: 2hs\n",
    "\n",
    "**Temas**:\n",
    "\n",
    "- Primer paso: Planificar el objetivo y entender el negocio.\n",
    "- Porqué Python? Diferentes entornos. Porque Google Collab? Que es un notebook? Texto enriquecido. Librerias.\n",
    "- Leer bases de datos de diferentes orígenes. Caso 1) Local CSV o Excel. Caso 2) De la nube una base de datos abierta.\n",
    "- Introducción a Pandas: head, tall, metodos estadísticos, Subgrupos con una o mas condiciones. Introducción al análisis exploratorio.\n",
    "- Limpieza de datos: datos duplicados, datos faltantes y posibles soluciones.\n",
    "- Ordenando, agrupando y creando tablas pivot.\n",
    "- Muestreo aleatorio en base a un nivel de confianza y margen de error parametrizado.\n",
    "- Ley de Bedford.\n",
    "- Guardar bases de datos en CSV y Excel."
   ]
  },
  {
   "cell_type": "markdown",
   "metadata": {},
   "source": [
    "#### __Introducción: Planificando el objetivo y entendiendo el negocio. Preguntas de Auditoría.__\n",
    "Primeros pasos con Python. Entornos. Librerías."
   ]
  },
  {
   "cell_type": "markdown",
   "metadata": {},
   "source": [
    "#### __Instalando Librerías__\n",
    "\n",
    "La primera vez que utilicemos una librería, debemos instalarla (si utilizamos Google Colab, las librerías más populares se encuentran pre instaladas)\n",
    "Para instalar una librería, ejecutaremos en una celda de código: *!pip install libreria*"
   ]
  },
  {
   "cell_type": "code",
   "execution_count": 1,
   "metadata": {},
   "outputs": [],
   "source": [
    "# Para insertar un comentario en una celda de códgio, debemos anteponer el #\n",
    "\n",
    "# ! pip install seaborn\n",
    "# ! pip install pandas\n",
    "# ! pip install matplotlib\n",
    "# ! pip install openpyxl"
   ]
  },
  {
   "cell_type": "markdown",
   "metadata": {},
   "source": [
    "#### __Importamos las librerías__"
   ]
  },
  {
   "cell_type": "code",
   "execution_count": 9,
   "metadata": {},
   "outputs": [],
   "source": [
    "# Importamos las librerías a utilizar\n",
    "\n",
    "import numpy as np  # Librería más utilizada para funciones numéricas\n",
    "import pandas as pd  # Librería para gestionar estructuras de datos en formato de filas y columnas\n",
    "import matplotlib.pyplot as plt  # Librería para realizar gráficos\n",
    "from openpyxl import Workbook  # Librería para exportar Excel\n",
    "\n",
    "# Ocultamos los mensajes de advertencia\n",
    "import warnings\n",
    "warnings.filterwarnings('ignore')\n",
    "\n",
    "import sys\n",
    "import math\n",
    "\n",
    "# Ajustamos algunos parámetros en Pandas\n",
    "pd.options.display.max_rows = 99  # Establece el límite de filas a mostrar de un DataFrame\n",
    "# Ajustamos la visualización de números con decimales, separando los miles y dejando solo 2 decimales\n",
    "pd.set_option('display.float_format', '{:,.2f}'.format)\n"
   ]
  },
  {
   "cell_type": "code",
   "execution_count": 7,
   "metadata": {},
   "outputs": [
    {
     "name": "stdout",
     "output_type": "stream",
     "text": [
      "Collecting openpyxl\n",
      "  Using cached openpyxl-3.1.5-py2.py3-none-any.whl.metadata (2.5 kB)\n",
      "Collecting et-xmlfile (from openpyxl)\n",
      "  Using cached et_xmlfile-2.0.0-py3-none-any.whl.metadata (2.7 kB)\n",
      "Using cached openpyxl-3.1.5-py2.py3-none-any.whl (250 kB)\n",
      "Using cached et_xmlfile-2.0.0-py3-none-any.whl (18 kB)\n",
      "Installing collected packages: et-xmlfile, openpyxl\n",
      "Successfully installed et-xmlfile-2.0.0 openpyxl-3.1.5\n"
     ]
    },
    {
     "name": "stderr",
     "output_type": "stream",
     "text": [
      "\n",
      "[notice] A new release of pip is available: 24.3.1 -> 25.0\n",
      "[notice] To update, run: python.exe -m pip install --upgrade pip\n"
     ]
    }
   ],
   "source": [
    "!pip install openpyxl"
   ]
  },
  {
   "cell_type": "markdown",
   "metadata": {},
   "source": [
    "#### __Leer bases de datos de diferentes orígenes.__\n",
    "El proceso de leer y empezar a trabajar con una base de datos depende de sus características, tales como configuración correcta de símbolos (encoding), especificación de sus columnas y tipos de datos. Para el caso de archivos de texto con un delimitador (csv) es importante especificar correctamente el mismo.\n",
    "\n",
    "Podemos optar por lee una Base de Datos guardada localmente por lo que les sugerimos guaradr la Base de Datos en el mismo directorio que nuestro Notebook (.ipnb).\n",
    "\n",
    "También les dejamos aquí un ejemplo para leer la misma Base de Datos desde el portal de datos abiertos de la Ciudad de Buenos Aires en la Nube."
   ]
  },
  {
   "cell_type": "code",
   "execution_count": null,
   "metadata": {},
   "outputs": [],
   "source": [
    "#CSV = pd.read_csv('C:\\Users\\fvillagra\\Downloads\\CIENCIA DE DATOS PARA AUDITORES\\compras-coronavirus.csv' ,sep=';', encoding-'iso-8859-1')"
   ]
  },
  {
   "cell_type": "markdown",
   "metadata": {},
   "source": [
    "##### __Como vemos en el ejemplo de arriba, a veces hay que especificar el separador y/o encoding.__"
   ]
  },
  {
   "cell_type": "code",
   "execution_count": null,
   "metadata": {},
   "outputs": [],
   "source": [
    "# Montar Google Drive para entorno Colab\n",
    "from google.colab import drive\n",
    "drive.mount('/content/gdrive')"
   ]
  },
  {
   "cell_type": "code",
   "execution_count": 16,
   "metadata": {},
   "outputs": [
    {
     "name": "stdout",
     "output_type": "stream",
     "text": [
      "El archivo existe\n"
     ]
    }
   ],
   "source": [
    "# Verificamos si el archivo CSV existe o no:\n",
    "import os\n",
    "\n",
    "ruta = r'C:\\Users\\fvillagra\\Downloads\\CIENCIA DE DATOS PARA AUDITORES\\compras-coronavirus.csv'\n",
    "\n",
    "if os.path.exists(ruta):\n",
    "    print(\"El archivo existe\")\n",
    "else:\n",
    "    print(\"El archivo NO existe\")"
   ]
  },
  {
   "cell_type": "code",
   "execution_count": 17,
   "metadata": {},
   "outputs": [
    {
     "name": "stdout",
     "output_type": "stream",
     "text": [
      "El archivo se abrió correctamente\n"
     ]
    }
   ],
   "source": [
    "# Usamos open() para verificar permisos:\n",
    "with open(ruta, 'r', encoding='utf-8') as file:\n",
    "    print(\"El archivo se abrió correctamente\")"
   ]
  },
  {
   "cell_type": "code",
   "execution_count": 24,
   "metadata": {},
   "outputs": [
    {
     "name": "stdout",
     "output_type": "stream",
     "text": [
      "Collecting chardet"
     ]
    },
    {
     "name": "stderr",
     "output_type": "stream",
     "text": [
      "\n",
      "[notice] A new release of pip is available: 24.3.1 -> 25.0\n",
      "[notice] To update, run: python.exe -m pip install --upgrade pip\n"
     ]
    },
    {
     "name": "stdout",
     "output_type": "stream",
     "text": [
      "\n",
      "  Using cached chardet-5.2.0-py3-none-any.whl.metadata (3.4 kB)\n",
      "Using cached chardet-5.2.0-py3-none-any.whl (199 kB)\n",
      "Installing collected packages: chardet\n",
      "Successfully installed chardet-5.2.0\n"
     ]
    }
   ],
   "source": [
    "!pip install chardet"
   ]
  },
  {
   "cell_type": "code",
   "execution_count": 25,
   "metadata": {},
   "outputs": [
    {
     "name": "stdout",
     "output_type": "stream",
     "text": [
      "ISO-8859-1\n"
     ]
    }
   ],
   "source": [
    "# Detectar la codificación:\n",
    "import chardet\n",
    "\n",
    "with open('compras-coronavirus.csv', 'rb') as f:\n",
    "    result = chardet.detect(f.read())\n",
    "    \n",
    "print(result['encoding'])"
   ]
  },
  {
   "cell_type": "code",
   "execution_count": 36,
   "metadata": {},
   "outputs": [
    {
     "name": "stdout",
     "output_type": "stream",
     "text": [
      "                    fecha     nro_pliego  nro_orden_de_compra   \\\n",
      "0     2020-01-06 00:00:00  410-0571-LPU20        410-5743-OC20   \n",
      "1     2020-01-06 00:00:00  421-3460-CME19        421-5768-OC20   \n",
      "2     2020-01-06 00:00:00  421-3460-CME19        421-5768-OC20   \n",
      "3     2020-01-06 00:00:00  421-3460-CME19        421-5768-OC20   \n",
      "4     2020-01-06 00:00:00  422-0575-LPU20        422-5795-OC20   \n",
      "...                   ...             ...                  ...   \n",
      "1793  2021-06-28 00:00:00  418-0812-CDI21        418-7265-OC21   \n",
      "1794  2021-06-28 00:00:00  439-0966-CME21        439-7337-OC21   \n",
      "1795  2021-06-28 00:00:00  432-1204-CME21        432-7333-OC21   \n",
      "1796  2021-06-28 00:00:00  425-1398-CME21        425-7120-OC21   \n",
      "1797  2021-06-29 00:00:00  418-0579-CDI21        418-7358-OC21   \n",
      "\n",
      "                     unidad_ejecutora         jurisdiccion  \\\n",
      "0          410 - HTAL.TEODORO ALVAREZ  MINISTERIO DE SALUD   \n",
      "1          421 - HTAL. PEDRO LAGLEYZE  MINISTERIO DE SALUD   \n",
      "2          421 - HTAL. PEDRO LAGLEYZE  MINISTERIO DE SALUD   \n",
      "3          421 - HTAL. PEDRO LAGLEYZE  MINISTERIO DE SALUD   \n",
      "4          422 - HTAL. BRAULIO MOYANO  MINISTERIO DE SALUD   \n",
      "...                               ...                  ...   \n",
      "1793  418 - HTAL. JUAN A. FERNANDEZ    MINISTERIO DE SALUD   \n",
      "1794     439 - HTAL. BONORINO UDAONDO  MINISTERIO DE SALUD   \n",
      "1795        432 - HTAL. MANUEL ROCCA   MINISTERIO DE SALUD   \n",
      "1796        425 - HTAL. JOSE M. PENNA  MINISTERIO DE SALUD   \n",
      "1797  418 - HTAL. JUAN A. FERNANDEZ    MINISTERIO DE SALUD   \n",
      "\n",
      "                      proveedor           cuit     importe  \\\n",
      "0                     EGLIS S.A  30-59401076-7       12100   \n",
      "1                GENBIOTECH SRL  30-70941519-7       13500   \n",
      "2                GENBIOTECH SRL  30-70941519-7       13500   \n",
      "3                GENBIOTECH SRL  30-70941519-7        1200   \n",
      "4                     EGLIS S.A  30-59401076-7        6050   \n",
      "...                         ...            ...         ...   \n",
      "1793  Air Liquide Argentina S.A  30-50085213-1  1376365,32   \n",
      "1794                CEEMED S.A.  33-70849252-9      355716   \n",
      "1795    DROGUERIA FARMATEC S.A.  30-70714285-1       17520   \n",
      "1796       FEAS ELECTRONICA S.A  30-70770219-9    312162,5   \n",
      "1797   ANTIGUA SAN ROQUE S.R.L.  30-65687578-6       88000   \n",
      "\n",
      "                                            descripcion cantidad  \\\n",
      "0     BOLSA PARA TRANSPORTE DE MUESTRAS BIOLOGICAS ....     2000   \n",
      "1     MICROPIPETA AUTOMATICA Modelo: De volumen vari...        1   \n",
      "2     MICROPIPETA AUTOMATICA Modelo: De volumen vari...        1   \n",
      "3        PUNTA PARA PIPETA (TIP) Modelo: Azul, plástica     1000   \n",
      "4     BOLSA PARA TRANSPORTE DE MUESTRAS BIOLOGICAS ....     1000   \n",
      "...                                                 ...      ...   \n",
      "1793  ALQUILER DE RESPIRADOR MICROPROCESADO Demás es...        6   \n",
      "1794  MUCOSUCTOR  . Modelo: Para broncoscopía con ca...      300   \n",
      "1795  OXIMETRO DE PULSO - SATUROMETRO - PULSIOXIMETR...        8   \n",
      "1796  OXIMETRO DE PULSO - SATUROMETRO - PULSIOXIMETR...        5   \n",
      "1797  GUANTE PARA CIRUGIA Con dedos largos de forma ...      400   \n",
      "\n",
      "     descripcion_rubro  \n",
      "0                Salud  \n",
      "1                Salud  \n",
      "2                Salud  \n",
      "3                Salud  \n",
      "4                Salud  \n",
      "...                ...  \n",
      "1793             Salud  \n",
      "1794             Salud  \n",
      "1795             Salud  \n",
      "1796             Salud  \n",
      "1797             Salud  \n",
      "\n",
      "[1798 rows x 11 columns]\n"
     ]
    }
   ],
   "source": [
    "import pandas as pd\n",
    "\n",
    "# Cargar el CSV en un DataFrame\n",
    "df = pd.read_csv('compras-coronavirus.csv', encoding='ISO-8859-1', delimiter=';')\n",
    "\n",
    "# Ver el contenido del DataFrame\n",
    "print(df)"
   ]
  },
  {
   "cell_type": "markdown",
   "metadata": {},
   "source": [
    "#### __Introducción a Pandas__\n",
    "Head, Tail, información general, accesos, métodos estadísticos, outliers y subconjuntos de datos con condiciones.\n",
    "\n",
    "Pandas es una librería de Python especializada en el manejo y análisis de estructuras de datos: https://pandas.pydata.org/\n",
    "\n",
    "__Las principales características de Pandas son:__\n",
    "- Manejo fácil y ágil de estructuras de datos.\n",
    "- Permite leer y escribir fácilmente bases en formato CSV, Excel y SQL.\n",
    "- Permite acceder a los datos mediante índices o nombres para filas y columnas.\n",
    "- Ofrece métodos para reordenar, dividir y combinar conjuntos de datos.\n",
    "- Permite trabajar con series temporales.\n",
    "- Realiza todas estas operaciones de manera muy eficiente."
   ]
  },
  {
   "cell_type": "markdown",
   "metadata": {},
   "source": [
    "#### __Para convertir la base en una estructura dentro de pandas, utilizamos Data Frame__"
   ]
  },
  {
   "cell_type": "code",
   "execution_count": null,
   "metadata": {},
   "outputs": [],
   "source": [
    "Para leer un archivo CSV, se debe usar pd.read_csv(), que es la función diseñada para eso. Asi se debe hacer:\n",
    "\n",
    "import pandas as pd\n",
    "\n",
    "# Leer el archivos CSV en un DataFrame\n",
    "df = pd.read_csv('compras-coronavirus.csv', delimiter=';', encoding='ISO-8859-1')\n",
    "\n",
    "# Ver el contenido del DataFrame\n",
    "print(df)\n",
    "\n",
    "La funcion read_csv() se encarga de convertir el archivos CSV en un DataFrame, por lo que no se necesita usar pd.DataFrame() en este caso."
   ]
  },
  {
   "cell_type": "markdown",
   "metadata": {},
   "source": [
    "##### Conociendo los datos: __Head y Tail__ - Visualizando primer/últimos registros:"
   ]
  },
  {
   "cell_type": "code",
   "execution_count": 41,
   "metadata": {},
   "outputs": [
    {
     "data": {
      "text/html": [
       "<div>\n",
       "<style scoped>\n",
       "    .dataframe tbody tr th:only-of-type {\n",
       "        vertical-align: middle;\n",
       "    }\n",
       "\n",
       "    .dataframe tbody tr th {\n",
       "        vertical-align: top;\n",
       "    }\n",
       "\n",
       "    .dataframe thead th {\n",
       "        text-align: right;\n",
       "    }\n",
       "</style>\n",
       "<table border=\"1\" class=\"dataframe\">\n",
       "  <thead>\n",
       "    <tr style=\"text-align: right;\">\n",
       "      <th></th>\n",
       "      <th>fecha</th>\n",
       "      <th>nro_pliego</th>\n",
       "      <th>nro_orden_de_compra</th>\n",
       "      <th>unidad_ejecutora</th>\n",
       "      <th>jurisdiccion</th>\n",
       "      <th>proveedor</th>\n",
       "      <th>cuit</th>\n",
       "      <th>importe</th>\n",
       "      <th>descripcion</th>\n",
       "      <th>cantidad</th>\n",
       "      <th>descripcion_rubro</th>\n",
       "    </tr>\n",
       "  </thead>\n",
       "  <tbody>\n",
       "    <tr>\n",
       "      <th>0</th>\n",
       "      <td>2020-01-06 00:00:00</td>\n",
       "      <td>410-0571-LPU20</td>\n",
       "      <td>410-5743-OC20</td>\n",
       "      <td>410 - HTAL.TEODORO ALVAREZ</td>\n",
       "      <td>MINISTERIO DE SALUD</td>\n",
       "      <td>EGLIS S.A</td>\n",
       "      <td>30-59401076-7</td>\n",
       "      <td>12100</td>\n",
       "      <td>BOLSA PARA TRANSPORTE DE MUESTRAS BIOLOGICAS ....</td>\n",
       "      <td>2000</td>\n",
       "      <td>Salud</td>\n",
       "    </tr>\n",
       "    <tr>\n",
       "      <th>1</th>\n",
       "      <td>2020-01-06 00:00:00</td>\n",
       "      <td>421-3460-CME19</td>\n",
       "      <td>421-5768-OC20</td>\n",
       "      <td>421 - HTAL. PEDRO LAGLEYZE</td>\n",
       "      <td>MINISTERIO DE SALUD</td>\n",
       "      <td>GENBIOTECH SRL</td>\n",
       "      <td>30-70941519-7</td>\n",
       "      <td>13500</td>\n",
       "      <td>MICROPIPETA AUTOMATICA Modelo: De volumen vari...</td>\n",
       "      <td>1</td>\n",
       "      <td>Salud</td>\n",
       "    </tr>\n",
       "  </tbody>\n",
       "</table>\n",
       "</div>"
      ],
      "text/plain": [
       "                 fecha     nro_pliego  nro_orden_de_compra   \\\n",
       "0  2020-01-06 00:00:00  410-0571-LPU20        410-5743-OC20   \n",
       "1  2020-01-06 00:00:00  421-3460-CME19        421-5768-OC20   \n",
       "\n",
       "             unidad_ejecutora         jurisdiccion       proveedor  \\\n",
       "0  410 - HTAL.TEODORO ALVAREZ  MINISTERIO DE SALUD       EGLIS S.A   \n",
       "1  421 - HTAL. PEDRO LAGLEYZE  MINISTERIO DE SALUD  GENBIOTECH SRL   \n",
       "\n",
       "            cuit importe                                        descripcion  \\\n",
       "0  30-59401076-7   12100  BOLSA PARA TRANSPORTE DE MUESTRAS BIOLOGICAS ....   \n",
       "1  30-70941519-7   13500  MICROPIPETA AUTOMATICA Modelo: De volumen vari...   \n",
       "\n",
       "  cantidad descripcion_rubro  \n",
       "0     2000             Salud  \n",
       "1        1             Salud  "
      ]
     },
     "execution_count": 41,
     "metadata": {},
     "output_type": "execute_result"
    }
   ],
   "source": [
    "# Mostramos las primeras N filas (si no establecemos la cantidad, por defecto son 5)\n",
    "df.head(2)"
   ]
  },
  {
   "cell_type": "code",
   "execution_count": 42,
   "metadata": {},
   "outputs": [
    {
     "data": {
      "text/html": [
       "<div>\n",
       "<style scoped>\n",
       "    .dataframe tbody tr th:only-of-type {\n",
       "        vertical-align: middle;\n",
       "    }\n",
       "\n",
       "    .dataframe tbody tr th {\n",
       "        vertical-align: top;\n",
       "    }\n",
       "\n",
       "    .dataframe thead th {\n",
       "        text-align: right;\n",
       "    }\n",
       "</style>\n",
       "<table border=\"1\" class=\"dataframe\">\n",
       "  <thead>\n",
       "    <tr style=\"text-align: right;\">\n",
       "      <th></th>\n",
       "      <th>fecha</th>\n",
       "      <th>nro_pliego</th>\n",
       "      <th>nro_orden_de_compra</th>\n",
       "      <th>unidad_ejecutora</th>\n",
       "      <th>jurisdiccion</th>\n",
       "      <th>proveedor</th>\n",
       "      <th>cuit</th>\n",
       "      <th>importe</th>\n",
       "      <th>descripcion</th>\n",
       "      <th>cantidad</th>\n",
       "      <th>descripcion_rubro</th>\n",
       "    </tr>\n",
       "  </thead>\n",
       "  <tbody>\n",
       "    <tr>\n",
       "      <th>1795</th>\n",
       "      <td>2021-06-28 00:00:00</td>\n",
       "      <td>432-1204-CME21</td>\n",
       "      <td>432-7333-OC21</td>\n",
       "      <td>432 - HTAL. MANUEL ROCCA</td>\n",
       "      <td>MINISTERIO DE SALUD</td>\n",
       "      <td>DROGUERIA FARMATEC S.A.</td>\n",
       "      <td>30-70714285-1</td>\n",
       "      <td>17520</td>\n",
       "      <td>OXIMETRO DE PULSO - SATUROMETRO - PULSIOXIMETR...</td>\n",
       "      <td>8</td>\n",
       "      <td>Salud</td>\n",
       "    </tr>\n",
       "    <tr>\n",
       "      <th>1796</th>\n",
       "      <td>2021-06-28 00:00:00</td>\n",
       "      <td>425-1398-CME21</td>\n",
       "      <td>425-7120-OC21</td>\n",
       "      <td>425 - HTAL. JOSE M. PENNA</td>\n",
       "      <td>MINISTERIO DE SALUD</td>\n",
       "      <td>FEAS ELECTRONICA S.A</td>\n",
       "      <td>30-70770219-9</td>\n",
       "      <td>312162,5</td>\n",
       "      <td>OXIMETRO DE PULSO - SATUROMETRO - PULSIOXIMETR...</td>\n",
       "      <td>5</td>\n",
       "      <td>Salud</td>\n",
       "    </tr>\n",
       "    <tr>\n",
       "      <th>1797</th>\n",
       "      <td>2021-06-29 00:00:00</td>\n",
       "      <td>418-0579-CDI21</td>\n",
       "      <td>418-7358-OC21</td>\n",
       "      <td>418 - HTAL. JUAN A. FERNANDEZ</td>\n",
       "      <td>MINISTERIO DE SALUD</td>\n",
       "      <td>ANTIGUA SAN ROQUE S.R.L.</td>\n",
       "      <td>30-65687578-6</td>\n",
       "      <td>88000</td>\n",
       "      <td>GUANTE PARA CIRUGIA Con dedos largos de forma ...</td>\n",
       "      <td>400</td>\n",
       "      <td>Salud</td>\n",
       "    </tr>\n",
       "  </tbody>\n",
       "</table>\n",
       "</div>"
      ],
      "text/plain": [
       "                    fecha     nro_pliego  nro_orden_de_compra   \\\n",
       "1795  2021-06-28 00:00:00  432-1204-CME21        432-7333-OC21   \n",
       "1796  2021-06-28 00:00:00  425-1398-CME21        425-7120-OC21   \n",
       "1797  2021-06-29 00:00:00  418-0579-CDI21        418-7358-OC21   \n",
       "\n",
       "                     unidad_ejecutora         jurisdiccion  \\\n",
       "1795        432 - HTAL. MANUEL ROCCA   MINISTERIO DE SALUD   \n",
       "1796        425 - HTAL. JOSE M. PENNA  MINISTERIO DE SALUD   \n",
       "1797  418 - HTAL. JUAN A. FERNANDEZ    MINISTERIO DE SALUD   \n",
       "\n",
       "                     proveedor           cuit   importe  \\\n",
       "1795   DROGUERIA FARMATEC S.A.  30-70714285-1     17520   \n",
       "1796      FEAS ELECTRONICA S.A  30-70770219-9  312162,5   \n",
       "1797  ANTIGUA SAN ROQUE S.R.L.  30-65687578-6     88000   \n",
       "\n",
       "                                            descripcion cantidad  \\\n",
       "1795  OXIMETRO DE PULSO - SATUROMETRO - PULSIOXIMETR...        8   \n",
       "1796  OXIMETRO DE PULSO - SATUROMETRO - PULSIOXIMETR...        5   \n",
       "1797  GUANTE PARA CIRUGIA Con dedos largos de forma ...      400   \n",
       "\n",
       "     descripcion_rubro  \n",
       "1795             Salud  \n",
       "1796             Salud  \n",
       "1797             Salud  "
      ]
     },
     "execution_count": 42,
     "metadata": {},
     "output_type": "execute_result"
    }
   ],
   "source": [
    "# Mostramos las últimas N filas (si no establecemos la cantidad, por defectos son 5)\n",
    "df.tail(3)"
   ]
  },
  {
   "cell_type": "markdown",
   "metadata": {},
   "source": [
    "##### __Accediendo a una columna del DataFrame con llave o punto:__\n",
    "El acceso con llave sirve para una df ['col1'] o mas columnas df[['col1','col2']]:"
   ]
  },
  {
   "cell_type": "code",
   "execution_count": 43,
   "metadata": {},
   "outputs": [
    {
     "data": {
      "text/html": [
       "<div>\n",
       "<style scoped>\n",
       "    .dataframe tbody tr th:only-of-type {\n",
       "        vertical-align: middle;\n",
       "    }\n",
       "\n",
       "    .dataframe tbody tr th {\n",
       "        vertical-align: top;\n",
       "    }\n",
       "\n",
       "    .dataframe thead th {\n",
       "        text-align: right;\n",
       "    }\n",
       "</style>\n",
       "<table border=\"1\" class=\"dataframe\">\n",
       "  <thead>\n",
       "    <tr style=\"text-align: right;\">\n",
       "      <th></th>\n",
       "      <th>proveedor</th>\n",
       "      <th>importe</th>\n",
       "    </tr>\n",
       "  </thead>\n",
       "  <tbody>\n",
       "    <tr>\n",
       "      <th>0</th>\n",
       "      <td>EGLIS S.A</td>\n",
       "      <td>12100</td>\n",
       "    </tr>\n",
       "    <tr>\n",
       "      <th>1</th>\n",
       "      <td>GENBIOTECH SRL</td>\n",
       "      <td>13500</td>\n",
       "    </tr>\n",
       "    <tr>\n",
       "      <th>2</th>\n",
       "      <td>GENBIOTECH SRL</td>\n",
       "      <td>13500</td>\n",
       "    </tr>\n",
       "    <tr>\n",
       "      <th>3</th>\n",
       "      <td>GENBIOTECH SRL</td>\n",
       "      <td>1200</td>\n",
       "    </tr>\n",
       "    <tr>\n",
       "      <th>4</th>\n",
       "      <td>EGLIS S.A</td>\n",
       "      <td>6050</td>\n",
       "    </tr>\n",
       "    <tr>\n",
       "      <th>...</th>\n",
       "      <td>...</td>\n",
       "      <td>...</td>\n",
       "    </tr>\n",
       "    <tr>\n",
       "      <th>1793</th>\n",
       "      <td>Air Liquide Argentina S.A</td>\n",
       "      <td>1376365,32</td>\n",
       "    </tr>\n",
       "    <tr>\n",
       "      <th>1794</th>\n",
       "      <td>CEEMED S.A.</td>\n",
       "      <td>355716</td>\n",
       "    </tr>\n",
       "    <tr>\n",
       "      <th>1795</th>\n",
       "      <td>DROGUERIA FARMATEC S.A.</td>\n",
       "      <td>17520</td>\n",
       "    </tr>\n",
       "    <tr>\n",
       "      <th>1796</th>\n",
       "      <td>FEAS ELECTRONICA S.A</td>\n",
       "      <td>312162,5</td>\n",
       "    </tr>\n",
       "    <tr>\n",
       "      <th>1797</th>\n",
       "      <td>ANTIGUA SAN ROQUE S.R.L.</td>\n",
       "      <td>88000</td>\n",
       "    </tr>\n",
       "  </tbody>\n",
       "</table>\n",
       "<p>1798 rows × 2 columns</p>\n",
       "</div>"
      ],
      "text/plain": [
       "                      proveedor     importe\n",
       "0                     EGLIS S.A       12100\n",
       "1                GENBIOTECH SRL       13500\n",
       "2                GENBIOTECH SRL       13500\n",
       "3                GENBIOTECH SRL        1200\n",
       "4                     EGLIS S.A        6050\n",
       "...                         ...         ...\n",
       "1793  Air Liquide Argentina S.A  1376365,32\n",
       "1794                CEEMED S.A.      355716\n",
       "1795    DROGUERIA FARMATEC S.A.       17520\n",
       "1796       FEAS ELECTRONICA S.A    312162,5\n",
       "1797   ANTIGUA SAN ROQUE S.R.L.       88000\n",
       "\n",
       "[1798 rows x 2 columns]"
      ]
     },
     "execution_count": 43,
     "metadata": {},
     "output_type": "execute_result"
    }
   ],
   "source": [
    "df[['proveedor','importe']]"
   ]
  },
  {
   "cell_type": "markdown",
   "metadata": {},
   "source": [
    "El acceso con punto nos permite acceder rápidamente a una columna df.col:"
   ]
  },
  {
   "cell_type": "code",
   "execution_count": 44,
   "metadata": {},
   "outputs": [
    {
     "data": {
      "text/plain": [
       "0                       EGLIS S.A\n",
       "1                  GENBIOTECH SRL\n",
       "2                  GENBIOTECH SRL\n",
       "3                  GENBIOTECH SRL\n",
       "4                       EGLIS S.A\n",
       "                  ...            \n",
       "1793    Air Liquide Argentina S.A\n",
       "1794                  CEEMED S.A.\n",
       "1795      DROGUERIA FARMATEC S.A.\n",
       "1796         FEAS ELECTRONICA S.A\n",
       "1797     ANTIGUA SAN ROQUE S.R.L.\n",
       "Name: proveedor, Length: 1798, dtype: object"
      ]
     },
     "execution_count": 44,
     "metadata": {},
     "output_type": "execute_result"
    }
   ],
   "source": [
    "df.proveedor"
   ]
  },
  {
   "cell_type": "markdown",
   "metadata": {},
   "source": [
    "__Asignación de una variable:__\n",
    "Creamos una nueva variable llamada \"lista_proveedores\" donde le asignaremos los valores de la columna proveedores de nuestro DataFrame."
   ]
  },
  {
   "cell_type": "code",
   "execution_count": 45,
   "metadata": {},
   "outputs": [],
   "source": [
    "# Lista_proveedores es el nombre de la variable. Podría haber sido cualquiera\n",
    "lista_proveedores = df.proveedor"
   ]
  },
  {
   "cell_type": "markdown",
   "metadata": {},
   "source": [
    "__Viendo el contenido de una variable:__\n",
    "Podemos ver el contenido poniendo el nombre de la variable o utilizando la función (variable):"
   ]
  },
  {
   "cell_type": "code",
   "execution_count": 46,
   "metadata": {},
   "outputs": [
    {
     "data": {
      "text/plain": [
       "0                       EGLIS S.A\n",
       "1                  GENBIOTECH SRL\n",
       "2                  GENBIOTECH SRL\n",
       "3                  GENBIOTECH SRL\n",
       "4                       EGLIS S.A\n",
       "                  ...            \n",
       "1793    Air Liquide Argentina S.A\n",
       "1794                  CEEMED S.A.\n",
       "1795      DROGUERIA FARMATEC S.A.\n",
       "1796         FEAS ELECTRONICA S.A\n",
       "1797     ANTIGUA SAN ROQUE S.R.L.\n",
       "Name: proveedor, Length: 1798, dtype: object"
      ]
     },
     "execution_count": 46,
     "metadata": {},
     "output_type": "execute_result"
    }
   ],
   "source": [
    "lista_proveedores # o print(lista_proveedores)"
   ]
  },
  {
   "cell_type": "markdown",
   "metadata": {},
   "source": [
    "#### __Visualizar información General de un Panda DataFrame:__\n",
    "Con .info() información relevante de nuestro Panda DataFrame, como ser cantidad de filas, nombre de las columnas, tipo de dato de cada columna y valores faltantes (la diferencia entre el total y la cantidad de instancias de cada columna)"
   ]
  },
  {
   "cell_type": "code",
   "execution_count": 47,
   "metadata": {},
   "outputs": [
    {
     "name": "stdout",
     "output_type": "stream",
     "text": [
      "<class 'pandas.core.frame.DataFrame'>\n",
      "RangeIndex: 1798 entries, 0 to 1797\n",
      "Data columns (total 11 columns):\n",
      " #   Column                Non-Null Count  Dtype \n",
      "---  ------                --------------  ----- \n",
      " 0   fecha                 1798 non-null   object\n",
      " 1   nro_pliego            1444 non-null   object\n",
      " 2   nro_orden_de_compra   1798 non-null   object\n",
      " 3   unidad_ejecutora      1460 non-null   object\n",
      " 4   jurisdiccion          1798 non-null   object\n",
      " 5   proveedor             1798 non-null   object\n",
      " 6   cuit                  1798 non-null   object\n",
      " 7   importe               1798 non-null   object\n",
      " 8   descripcion           1444 non-null   object\n",
      " 9   cantidad              1773 non-null   object\n",
      " 10  descripcion_rubro     1444 non-null   object\n",
      "dtypes: object(11)\n",
      "memory usage: 154.6+ KB\n"
     ]
    }
   ],
   "source": [
    "df.info()"
   ]
  },
  {
   "cell_type": "markdown",
   "metadata": {},
   "source": [
    "#### __Columns.values los nombres de las columnas:__\n",
    "De esta forma, podremos verificar si existe algún error o si quisieramos cambiar luego el nombre de alguna columna:"
   ]
  },
  {
   "cell_type": "code",
   "execution_count": 48,
   "metadata": {},
   "outputs": [
    {
     "data": {
      "text/plain": [
       "['fecha',\n",
       " 'nro_pliego ',\n",
       " 'nro_orden_de_compra ',\n",
       " 'unidad_ejecutora',\n",
       " 'jurisdiccion',\n",
       " 'proveedor',\n",
       " 'cuit',\n",
       " 'importe',\n",
       " 'descripcion',\n",
       " 'cantidad',\n",
       " 'descripcion_rubro']"
      ]
     },
     "execution_count": 48,
     "metadata": {},
     "output_type": "execute_result"
    }
   ],
   "source": [
    "# Listamos los nombres de las columnas:\n",
    "list(df.columns.values)"
   ]
  },
  {
   "cell_type": "markdown",
   "metadata": {},
   "source": [
    "#### __Cambiando el nombre de las columnas con rename():__\n",
    "Verificamos que algunas columnas tienen un espacio dentro del nombre que dificultara nuestro trabajo, por lo que vamos a renombrarlas:\n"
   ]
  },
  {
   "cell_type": "code",
   "execution_count": 50,
   "metadata": {},
   "outputs": [
    {
     "data": {
      "text/html": [
       "<div>\n",
       "<style scoped>\n",
       "    .dataframe tbody tr th:only-of-type {\n",
       "        vertical-align: middle;\n",
       "    }\n",
       "\n",
       "    .dataframe tbody tr th {\n",
       "        vertical-align: top;\n",
       "    }\n",
       "\n",
       "    .dataframe thead th {\n",
       "        text-align: right;\n",
       "    }\n",
       "</style>\n",
       "<table border=\"1\" class=\"dataframe\">\n",
       "  <thead>\n",
       "    <tr style=\"text-align: right;\">\n",
       "      <th></th>\n",
       "      <th>fecha</th>\n",
       "      <th>pliego</th>\n",
       "      <th>orden_de_compra</th>\n",
       "      <th>unidad_ejecutora</th>\n",
       "      <th>jurisdiccion</th>\n",
       "      <th>proveedor</th>\n",
       "      <th>cuit</th>\n",
       "      <th>importe</th>\n",
       "      <th>descripcion</th>\n",
       "      <th>cantidad</th>\n",
       "      <th>descripcion_rubro</th>\n",
       "    </tr>\n",
       "  </thead>\n",
       "  <tbody>\n",
       "    <tr>\n",
       "      <th>0</th>\n",
       "      <td>2020-01-06 00:00:00</td>\n",
       "      <td>410-0571-LPU20</td>\n",
       "      <td>410-5743-OC20</td>\n",
       "      <td>410 - HTAL.TEODORO ALVAREZ</td>\n",
       "      <td>MINISTERIO DE SALUD</td>\n",
       "      <td>EGLIS S.A</td>\n",
       "      <td>30-59401076-7</td>\n",
       "      <td>12100</td>\n",
       "      <td>BOLSA PARA TRANSPORTE DE MUESTRAS BIOLOGICAS ....</td>\n",
       "      <td>2000</td>\n",
       "      <td>Salud</td>\n",
       "    </tr>\n",
       "    <tr>\n",
       "      <th>1</th>\n",
       "      <td>2020-01-06 00:00:00</td>\n",
       "      <td>421-3460-CME19</td>\n",
       "      <td>421-5768-OC20</td>\n",
       "      <td>421 - HTAL. PEDRO LAGLEYZE</td>\n",
       "      <td>MINISTERIO DE SALUD</td>\n",
       "      <td>GENBIOTECH SRL</td>\n",
       "      <td>30-70941519-7</td>\n",
       "      <td>13500</td>\n",
       "      <td>MICROPIPETA AUTOMATICA Modelo: De volumen vari...</td>\n",
       "      <td>1</td>\n",
       "      <td>Salud</td>\n",
       "    </tr>\n",
       "  </tbody>\n",
       "</table>\n",
       "</div>"
      ],
      "text/plain": [
       "                 fecha          pliego orden_de_compra  \\\n",
       "0  2020-01-06 00:00:00  410-0571-LPU20   410-5743-OC20   \n",
       "1  2020-01-06 00:00:00  421-3460-CME19   421-5768-OC20   \n",
       "\n",
       "             unidad_ejecutora         jurisdiccion       proveedor  \\\n",
       "0  410 - HTAL.TEODORO ALVAREZ  MINISTERIO DE SALUD       EGLIS S.A   \n",
       "1  421 - HTAL. PEDRO LAGLEYZE  MINISTERIO DE SALUD  GENBIOTECH SRL   \n",
       "\n",
       "            cuit importe                                        descripcion  \\\n",
       "0  30-59401076-7   12100  BOLSA PARA TRANSPORTE DE MUESTRAS BIOLOGICAS ....   \n",
       "1  30-70941519-7   13500  MICROPIPETA AUTOMATICA Modelo: De volumen vari...   \n",
       "\n",
       "  cantidad descripcion_rubro  \n",
       "0     2000             Salud  \n",
       "1        1             Salud  "
      ]
     },
     "execution_count": 50,
     "metadata": {},
     "output_type": "execute_result"
    }
   ],
   "source": [
    "# Renombrando una columna y asignandolo al mismo DataFrame\n",
    "df = df.rename(columns={\"nro_pliego \": \"pliego\"})\n",
    "df = df.rename(columns={\"nro_orden_de_compra \": \"orden_de_compra\"})\n",
    "df.head(2)"
   ]
  },
  {
   "cell_type": "markdown",
   "metadata": {},
   "source": [
    "La info general, todos los datos son del tipo **object**, lo cual nos va a impedir realizar algunas operaciones, por lo que debemos asignar el tipo de dato correcto a las columnas que querramos utilizar.\n",
    "\n",
    "Para esto utilizaremos las funciones:\n",
    "\n",
    "convert_dtypes(): Intenta adivinar el tipo de dato dentro de la columna. Luego de utilizarlo, debemos verificar y configurar los que hayan quedado mal (numeros y fechas).\n",
    "\n",
    "to_datetime(): convierte una cadena de texto al tipo fecha.\n",
    "\n",
    "to_numeric(): convierte una cadena de texto a numero."
   ]
  },
  {
   "cell_type": "code",
   "execution_count": 51,
   "metadata": {},
   "outputs": [],
   "source": [
    "df = df.convert_dtypes(infer_objects=True)\n",
    "df['fecha'] = pd.to_datetime(df['fecha'])\n",
    "df['importe'] = pd.to_numeric(df['importe'], errors='coerce', downcast='signed')\n",
    "df['cantidad'] = pd.to_numeric(df['cantidad'], errors='coerce', downcast='signed')"
   ]
  },
  {
   "cell_type": "code",
   "execution_count": 52,
   "metadata": {},
   "outputs": [
    {
     "name": "stdout",
     "output_type": "stream",
     "text": [
      "<class 'pandas.core.frame.DataFrame'>\n",
      "RangeIndex: 1798 entries, 0 to 1797\n",
      "Data columns (total 11 columns):\n",
      " #   Column             Non-Null Count  Dtype         \n",
      "---  ------             --------------  -----         \n",
      " 0   fecha              1798 non-null   datetime64[ns]\n",
      " 1   pliego             1444 non-null   string        \n",
      " 2   orden_de_compra    1798 non-null   string        \n",
      " 3   unidad_ejecutora   1460 non-null   string        \n",
      " 4   jurisdiccion       1798 non-null   string        \n",
      " 5   proveedor          1798 non-null   string        \n",
      " 6   cuit               1798 non-null   string        \n",
      " 7   importe            1555 non-null   Float64       \n",
      " 8   descripcion        1444 non-null   string        \n",
      " 9   cantidad           1772 non-null   Float64       \n",
      " 10  descripcion_rubro  1444 non-null   string        \n",
      "dtypes: Float64(2), datetime64[ns](1), string(8)\n",
      "memory usage: 158.2 KB\n"
     ]
    }
   ],
   "source": [
    "df.info()"
   ]
  },
  {
   "cell_type": "markdown",
   "metadata": {},
   "source": [
    "#### __Período auditado en la Base de Datos__\n",
    "Para esto utilizaremos las funciones min() y max() aplicadas al campo fecha para seleccionar el registro mas antiguo y el mas nuevo."
   ]
  },
  {
   "cell_type": "code",
   "execution_count": 53,
   "metadata": {},
   "outputs": [
    {
     "name": "stdout",
     "output_type": "stream",
     "text": [
      "El período auditado comprende: \n",
      "Desde:  06/01/2020\n",
      "Hasta:  29/06/2021\n",
      "Cantidad de días:  540 days 00:00:00\n"
     ]
    }
   ],
   "source": [
    "desde = df.fecha.min().strftime(\"%d/%m/%Y\")\n",
    "hasta = df.fecha.max().strftime(\"%d/%m/%Y\")\n",
    "print (\"El período auditado comprende: \")\n",
    "print (\"Desde: \", desde)\n",
    "print (\"Hasta: \", hasta)\n",
    "print (\"Cantidad de días: \", df.fecha.max() - df.fecha.min())"
   ]
  },
  {
   "cell_type": "markdown",
   "metadata": {},
   "source": [
    "#### __Métodos y funciones más utilizados en un DataFrame:__\n",
    "Para valores numéricos:"
   ]
  },
  {
   "cell_type": "code",
   "execution_count": null,
   "metadata": {},
   "outputs": [],
   "source": [
    ".count() : Devuelve el número de elementos que no son nulos.\n",
    ".sum() : Devuelve la suma de datos numéricos. \n",
    ".cumsum(): Devuelve la suma acumulada de los datos numéricos. \n",
    ".min() y max() : Devuelven el menor y el mayor de los datos. \n",
    ".std() : Devuelve la desviación standar de los datos numéricos. \n",
    ".describe(): Devuelve una serie con un resumen descriptivo que incluye el número de datos, su suma, el mínimo, el máximo, la media, la desviación"
   ]
  },
  {
   "cell_type": "markdown",
   "metadata": {},
   "source": [
    "- Para valores categóricos:"
   ]
  },
  {
   "cell_type": "code",
   "execution_count": null,
   "metadata": {},
   "outputs": [],
   "source": [
    ".value_counts(): Devuelve la frecuencia (número de repeticiones) de cada valor. "
   ]
  },
  {
   "cell_type": "markdown",
   "metadata": {},
   "source": [
    "Algunos ejemplos:"
   ]
  },
  {
   "cell_type": "code",
   "execution_count": 54,
   "metadata": {},
   "outputs": [
    {
     "data": {
      "text/plain": [
       "fecha                1798\n",
       "pliego               1444\n",
       "orden_de_compra      1798\n",
       "unidad_ejecutora     1460\n",
       "jurisdiccion         1798\n",
       "proveedor            1798\n",
       "cuit                 1798\n",
       "importe              1555\n",
       "descripcion          1444\n",
       "cantidad             1772\n",
       "descripcion_rubro    1444\n",
       "dtype: int64"
      ]
     },
     "execution_count": 54,
     "metadata": {},
     "output_type": "execute_result"
    }
   ],
   "source": [
    "df.count() # Cantidad de datos por cada columna"
   ]
  },
  {
   "cell_type": "code",
   "execution_count": 55,
   "metadata": {},
   "outputs": [
    {
     "data": {
      "text/plain": [
       "np.float64(5391310486.110001)"
      ]
     },
     "execution_count": 55,
     "metadata": {},
     "output_type": "execute_result"
    }
   ],
   "source": [
    "df.importe.sum() # El total de la columna importe"
   ]
  },
  {
   "cell_type": "code",
   "execution_count": 56,
   "metadata": {},
   "outputs": [
    {
     "data": {
      "text/plain": [
       "proveedor\n",
       "RH+ S.A                       128\n",
       "CEGENS S.A.                   116\n",
       "DROGUERIA MARTORANI S.A.       72\n",
       "DROGUERIA FARMATEC S.A.        63\n",
       "Medibel SA                     60\n",
       "Laboratorios Britania SA       37\n",
       "GEDOX S.A.                     36\n",
       "GASES COMPRIMIDOS S.A          34\n",
       "PANELES DE CABECERA TH SRL     33\n",
       "COVIDIEN ARGENTINA SA          32\n",
       "Name: count, dtype: Int64"
      ]
     },
     "execution_count": 56,
     "metadata": {},
     "output_type": "execute_result"
    }
   ],
   "source": [
    "df.proveedor.value_counts().head(10) # Veamos los 10 proveedores con mayor ordenes de compra (frecuencia)"
   ]
  },
  {
   "cell_type": "markdown",
   "metadata": {},
   "source": [
    "#### __Generando un subconjunto de mi DataFrame en base a condiciones utilizando LOC:__\n",
    "Loc se utiliza para FILTRAR filas o columnas con una determinada condición."
   ]
  },
  {
   "cell_type": "markdown",
   "metadata": {},
   "source": [
    "**Utilizamos la función str.contanins() para FILTRAR aquellas filas que contengan la palabra 'EQUIPO' en la columna df.descripción:**"
   ]
  },
  {
   "cell_type": "code",
   "execution_count": 58,
   "metadata": {},
   "outputs": [
    {
     "data": {
      "text/html": [
       "<div>\n",
       "<style scoped>\n",
       "    .dataframe tbody tr th:only-of-type {\n",
       "        vertical-align: middle;\n",
       "    }\n",
       "\n",
       "    .dataframe tbody tr th {\n",
       "        vertical-align: top;\n",
       "    }\n",
       "\n",
       "    .dataframe thead th {\n",
       "        text-align: right;\n",
       "    }\n",
       "</style>\n",
       "<table border=\"1\" class=\"dataframe\">\n",
       "  <thead>\n",
       "    <tr style=\"text-align: right;\">\n",
       "      <th></th>\n",
       "      <th>fecha</th>\n",
       "      <th>pliego</th>\n",
       "      <th>orden_de_compra</th>\n",
       "      <th>unidad_ejecutora</th>\n",
       "      <th>jurisdiccion</th>\n",
       "      <th>proveedor</th>\n",
       "      <th>cuit</th>\n",
       "      <th>importe</th>\n",
       "      <th>descripcion</th>\n",
       "      <th>cantidad</th>\n",
       "      <th>descripcion_rubro</th>\n",
       "    </tr>\n",
       "  </thead>\n",
       "  <tbody>\n",
       "    <tr>\n",
       "      <th>13</th>\n",
       "      <td>2020-01-06</td>\n",
       "      <td>439-0897-CME20</td>\n",
       "      <td>439-5825-OC20</td>\n",
       "      <td>439 - HTAL. BONORINO UDAONDO</td>\n",
       "      <td>MINISTERIO DE SALUD</td>\n",
       "      <td>BIODIAGNOSTICO S.A.</td>\n",
       "      <td>30-63927711-5</td>\n",
       "      <td>194,880.00</td>\n",
       "      <td>EQUIPO PARA REACCION EN CADENA DE LA POLIMERAS...</td>\n",
       "      <td>3.00</td>\n",
       "      <td>Salud</td>\n",
       "    </tr>\n",
       "    <tr>\n",
       "      <th>153</th>\n",
       "      <td>2020-04-12</td>\n",
       "      <td>401-1400-CDI20</td>\n",
       "      <td>401-12951-OC20</td>\n",
       "      <td>401 - MINISTERIO DE SALUD</td>\n",
       "      <td>MINISTERIO DE SALUD</td>\n",
       "      <td>CROMOION S.R.L.</td>\n",
       "      <td>30-61547465-3</td>\n",
       "      <td>4,893,480.00</td>\n",
       "      <td>EQUIPO PARA REACCION EN CADENA DE LA POLIMERAS...</td>\n",
       "      <td>6,210.00</td>\n",
       "      <td>Salud</td>\n",
       "    </tr>\n",
       "    <tr>\n",
       "      <th>382</th>\n",
       "      <td>2020-05-20</td>\n",
       "      <td>418-0547-CDI20</td>\n",
       "      <td>418-5444-OC20</td>\n",
       "      <td>418 - HTAL. JUAN A. FERNANDEZ</td>\n",
       "      <td>MINISTERIO DE SALUD</td>\n",
       "      <td>UNIC COMPANY SRL</td>\n",
       "      <td>30-60012470-2</td>\n",
       "      <td>407,160.00</td>\n",
       "      <td>EQUIPO PARA RESUCITACION PARA ADULTOS . Modelo...</td>\n",
       "      <td>60.00</td>\n",
       "      <td>Salud</td>\n",
       "    </tr>\n",
       "    <tr>\n",
       "      <th>455</th>\n",
       "      <td>2020-05-27</td>\n",
       "      <td>418-0649-CDI20</td>\n",
       "      <td>418-5661-OC20</td>\n",
       "      <td>418 - HTAL. JUAN A. FERNANDEZ</td>\n",
       "      <td>MINISTERIO DE SALUD</td>\n",
       "      <td>BECTON DICKINSON ARGENTINA SRL</td>\n",
       "      <td>30-70047365-8</td>\n",
       "      <td>19,500,000.00</td>\n",
       "      <td>EQUIPO PARA REACCION EN CADENA DE LA POLIMERAS...</td>\n",
       "      <td>10,000.00</td>\n",
       "      <td>Salud</td>\n",
       "    </tr>\n",
       "    <tr>\n",
       "      <th>467</th>\n",
       "      <td>2020-05-28</td>\n",
       "      <td>412-1078-CME20</td>\n",
       "      <td>412-5718-OC20</td>\n",
       "      <td>412 - HTAL. COSME ARGERICH</td>\n",
       "      <td>MINISTERIO DE SALUD</td>\n",
       "      <td>DROGUERIA MARTORANI S.A.</td>\n",
       "      <td>30-70296606-6</td>\n",
       "      <td>409,940.00</td>\n",
       "      <td>EQUIPO PARA RESUCITACION PARA ADULTOS . Modelo...</td>\n",
       "      <td>50.00</td>\n",
       "      <td>Salud</td>\n",
       "    </tr>\n",
       "  </tbody>\n",
       "</table>\n",
       "</div>"
      ],
      "text/plain": [
       "         fecha          pliego orden_de_compra               unidad_ejecutora  \\\n",
       "13  2020-01-06  439-0897-CME20   439-5825-OC20   439 - HTAL. BONORINO UDAONDO   \n",
       "153 2020-04-12  401-1400-CDI20  401-12951-OC20      401 - MINISTERIO DE SALUD   \n",
       "382 2020-05-20  418-0547-CDI20   418-5444-OC20  418 - HTAL. JUAN A. FERNANDEZ   \n",
       "455 2020-05-27  418-0649-CDI20   418-5661-OC20  418 - HTAL. JUAN A. FERNANDEZ   \n",
       "467 2020-05-28  412-1078-CME20   412-5718-OC20     412 - HTAL. COSME ARGERICH   \n",
       "\n",
       "            jurisdiccion                       proveedor           cuit  \\\n",
       "13   MINISTERIO DE SALUD             BIODIAGNOSTICO S.A.  30-63927711-5   \n",
       "153  MINISTERIO DE SALUD                 CROMOION S.R.L.  30-61547465-3   \n",
       "382  MINISTERIO DE SALUD                UNIC COMPANY SRL  30-60012470-2   \n",
       "455  MINISTERIO DE SALUD  BECTON DICKINSON ARGENTINA SRL  30-70047365-8   \n",
       "467  MINISTERIO DE SALUD        DROGUERIA MARTORANI S.A.  30-70296606-6   \n",
       "\n",
       "          importe                                        descripcion  \\\n",
       "13     194,880.00  EQUIPO PARA REACCION EN CADENA DE LA POLIMERAS...   \n",
       "153  4,893,480.00  EQUIPO PARA REACCION EN CADENA DE LA POLIMERAS...   \n",
       "382    407,160.00  EQUIPO PARA RESUCITACION PARA ADULTOS . Modelo...   \n",
       "455 19,500,000.00  EQUIPO PARA REACCION EN CADENA DE LA POLIMERAS...   \n",
       "467    409,940.00  EQUIPO PARA RESUCITACION PARA ADULTOS . Modelo...   \n",
       "\n",
       "     cantidad descripcion_rubro  \n",
       "13       3.00             Salud  \n",
       "153  6,210.00             Salud  \n",
       "382     60.00             Salud  \n",
       "455 10,000.00             Salud  \n",
       "467     50.00             Salud  "
      ]
     },
     "execution_count": 58,
     "metadata": {},
     "output_type": "execute_result"
    }
   ],
   "source": [
    "df.loc [ df.descripcion.str.contains('EQUIPO')].head() # con .head solo visualizamos las primeras 5"
   ]
  },
  {
   "cell_type": "markdown",
   "metadata": {},
   "source": [
    "**FILTRAMOS aquellas filas cuyo importe sea superior a 100.000**"
   ]
  },
  {
   "cell_type": "code",
   "execution_count": 59,
   "metadata": {},
   "outputs": [
    {
     "data": {
      "text/html": [
       "<div>\n",
       "<style scoped>\n",
       "    .dataframe tbody tr th:only-of-type {\n",
       "        vertical-align: middle;\n",
       "    }\n",
       "\n",
       "    .dataframe tbody tr th {\n",
       "        vertical-align: top;\n",
       "    }\n",
       "\n",
       "    .dataframe thead th {\n",
       "        text-align: right;\n",
       "    }\n",
       "</style>\n",
       "<table border=\"1\" class=\"dataframe\">\n",
       "  <thead>\n",
       "    <tr style=\"text-align: right;\">\n",
       "      <th></th>\n",
       "      <th>fecha</th>\n",
       "      <th>pliego</th>\n",
       "      <th>orden_de_compra</th>\n",
       "      <th>unidad_ejecutora</th>\n",
       "      <th>jurisdiccion</th>\n",
       "      <th>proveedor</th>\n",
       "      <th>cuit</th>\n",
       "      <th>importe</th>\n",
       "      <th>descripcion</th>\n",
       "      <th>cantidad</th>\n",
       "      <th>descripcion_rubro</th>\n",
       "    </tr>\n",
       "  </thead>\n",
       "  <tbody>\n",
       "    <tr>\n",
       "      <th>13</th>\n",
       "      <td>2020-01-06</td>\n",
       "      <td>439-0897-CME20</td>\n",
       "      <td>439-5825-OC20</td>\n",
       "      <td>439 - HTAL. BONORINO UDAONDO</td>\n",
       "      <td>MINISTERIO DE SALUD</td>\n",
       "      <td>BIODIAGNOSTICO S.A.</td>\n",
       "      <td>30-63927711-5</td>\n",
       "      <td>194,880.00</td>\n",
       "      <td>EQUIPO PARA REACCION EN CADENA DE LA POLIMERAS...</td>\n",
       "      <td>3.00</td>\n",
       "      <td>Salud</td>\n",
       "    </tr>\n",
       "    <tr>\n",
       "      <th>16</th>\n",
       "      <td>2020-01-06</td>\n",
       "      <td>410-0571-LPU20</td>\n",
       "      <td>410-5747-OC20</td>\n",
       "      <td>410 - HTAL.TEODORO ALVAREZ</td>\n",
       "      <td>MINISTERIO DE SALUD</td>\n",
       "      <td>Laboratorios Britania SA</td>\n",
       "      <td>33-64529398-9</td>\n",
       "      <td>102,000.00</td>\n",
       "      <td>HISOPO    Modelo: De plástico y dacron en tubo...</td>\n",
       "      <td>3,000.00</td>\n",
       "      <td>Salud</td>\n",
       "    </tr>\n",
       "    <tr>\n",
       "      <th>17</th>\n",
       "      <td>2020-01-06</td>\n",
       "      <td>401-0590-CDI20</td>\n",
       "      <td>401-5846-OC20</td>\n",
       "      <td>401 - MINISTERIO DE SALUD</td>\n",
       "      <td>MINISTERIO DE SALUD</td>\n",
       "      <td>CINMOR SRL</td>\n",
       "      <td>30-71400415-4</td>\n",
       "      <td>4,364,400.00</td>\n",
       "      <td>CAMISOLIN DE UN SOLO USO TELA: SMS uso Médico,...</td>\n",
       "      <td>20,000.00</td>\n",
       "      <td>Salud</td>\n",
       "    </tr>\n",
       "    <tr>\n",
       "      <th>18</th>\n",
       "      <td>2020-01-06</td>\n",
       "      <td>401-0590-CDI20</td>\n",
       "      <td>401-5846-OC20</td>\n",
       "      <td>401 - MINISTERIO DE SALUD</td>\n",
       "      <td>MINISTERIO DE SALUD</td>\n",
       "      <td>CINMOR SRL</td>\n",
       "      <td>30-71400415-4</td>\n",
       "      <td>1,721,600.00</td>\n",
       "      <td>CAMISOLIN DE UN SOLO USO TELA: SMS uso Médico,...</td>\n",
       "      <td>5,000.00</td>\n",
       "      <td>Salud</td>\n",
       "    </tr>\n",
       "    <tr>\n",
       "      <th>19</th>\n",
       "      <td>2020-01-06</td>\n",
       "      <td>401-0590-CDI20</td>\n",
       "      <td>401-5845-OC20</td>\n",
       "      <td>401 - MINISTERIO DE SALUD</td>\n",
       "      <td>MINISTERIO DE SALUD</td>\n",
       "      <td>PROPATO HNOS. S.A.I.C.</td>\n",
       "      <td>30-55425869-3</td>\n",
       "      <td>1,482,855.00</td>\n",
       "      <td>ANTIPARRA DE SEGURIDAD BIOLOGICA . Modelo: Par...</td>\n",
       "      <td>1,900.00</td>\n",
       "      <td>Seguridad</td>\n",
       "    </tr>\n",
       "  </tbody>\n",
       "</table>\n",
       "</div>"
      ],
      "text/plain": [
       "        fecha          pliego orden_de_compra              unidad_ejecutora  \\\n",
       "13 2020-01-06  439-0897-CME20   439-5825-OC20  439 - HTAL. BONORINO UDAONDO   \n",
       "16 2020-01-06  410-0571-LPU20   410-5747-OC20  410 - HTAL.TEODORO ALVAREZ     \n",
       "17 2020-01-06  401-0590-CDI20   401-5846-OC20     401 - MINISTERIO DE SALUD   \n",
       "18 2020-01-06  401-0590-CDI20   401-5846-OC20     401 - MINISTERIO DE SALUD   \n",
       "19 2020-01-06  401-0590-CDI20   401-5845-OC20     401 - MINISTERIO DE SALUD   \n",
       "\n",
       "           jurisdiccion                 proveedor           cuit      importe  \\\n",
       "13  MINISTERIO DE SALUD       BIODIAGNOSTICO S.A.  30-63927711-5   194,880.00   \n",
       "16  MINISTERIO DE SALUD  Laboratorios Britania SA  33-64529398-9   102,000.00   \n",
       "17  MINISTERIO DE SALUD                CINMOR SRL  30-71400415-4 4,364,400.00   \n",
       "18  MINISTERIO DE SALUD                CINMOR SRL  30-71400415-4 1,721,600.00   \n",
       "19  MINISTERIO DE SALUD    PROPATO HNOS. S.A.I.C.  30-55425869-3 1,482,855.00   \n",
       "\n",
       "                                          descripcion  cantidad  \\\n",
       "13  EQUIPO PARA REACCION EN CADENA DE LA POLIMERAS...      3.00   \n",
       "16  HISOPO    Modelo: De plástico y dacron en tubo...  3,000.00   \n",
       "17  CAMISOLIN DE UN SOLO USO TELA: SMS uso Médico,... 20,000.00   \n",
       "18  CAMISOLIN DE UN SOLO USO TELA: SMS uso Médico,...  5,000.00   \n",
       "19  ANTIPARRA DE SEGURIDAD BIOLOGICA . Modelo: Par...  1,900.00   \n",
       "\n",
       "   descripcion_rubro  \n",
       "13             Salud  \n",
       "16             Salud  \n",
       "17             Salud  \n",
       "18             Salud  \n",
       "19        Seguridad   "
      ]
     },
     "execution_count": 59,
     "metadata": {},
     "output_type": "execute_result"
    }
   ],
   "source": [
    "df.loc [ df.importe > 100000].head() # con .head solo visualizamos las primeras 5"
   ]
  },
  {
   "cell_type": "markdown",
   "metadata": {},
   "source": [
    "__Como hacemos para SELECCIONAR/FILTRAR filas con 2 condiciones?__"
   ]
  },
  {
   "cell_type": "markdown",
   "metadata": {},
   "source": [
    "- Condición 1 & Condición 2: Se deben cumplir ambas condiciones:\n",
    "Seleccionamos los registros que contengan la palabra \"BARBIJO\" en el campo descripción y cuya fecha sea posterior a 1 de Enero de 2021.\n",
    "\n",
    "& = AMPERSAN /// \n",
    "**>** = MAYOR A XXXX FECHA"
   ]
  },
  {
   "cell_type": "code",
   "execution_count": 61,
   "metadata": {},
   "outputs": [
    {
     "data": {
      "text/html": [
       "<div>\n",
       "<style scoped>\n",
       "    .dataframe tbody tr th:only-of-type {\n",
       "        vertical-align: middle;\n",
       "    }\n",
       "\n",
       "    .dataframe tbody tr th {\n",
       "        vertical-align: top;\n",
       "    }\n",
       "\n",
       "    .dataframe thead th {\n",
       "        text-align: right;\n",
       "    }\n",
       "</style>\n",
       "<table border=\"1\" class=\"dataframe\">\n",
       "  <thead>\n",
       "    <tr style=\"text-align: right;\">\n",
       "      <th></th>\n",
       "      <th>fecha</th>\n",
       "      <th>pliego</th>\n",
       "      <th>orden_de_compra</th>\n",
       "      <th>unidad_ejecutora</th>\n",
       "      <th>jurisdiccion</th>\n",
       "      <th>proveedor</th>\n",
       "      <th>cuit</th>\n",
       "      <th>importe</th>\n",
       "      <th>descripcion</th>\n",
       "      <th>cantidad</th>\n",
       "      <th>descripcion_rubro</th>\n",
       "    </tr>\n",
       "  </thead>\n",
       "  <tbody>\n",
       "    <tr>\n",
       "      <th>1250</th>\n",
       "      <td>2021-01-25</td>\n",
       "      <td>418-1726-CDI20</td>\n",
       "      <td>418-0114-OC21</td>\n",
       "      <td>418 - HTAL. JUAN A. FERNANDEZ</td>\n",
       "      <td>MINISTERIO DE SALUD</td>\n",
       "      <td>DROGUERIA PROMEDIC SRL</td>\n",
       "      <td>30-70889514-4</td>\n",
       "      <td>1,197,000.00</td>\n",
       "      <td>BARBIJO TIPO MASCARILLA DE ALTA EFICIENCIA N95...</td>\n",
       "      <td>3,000.00</td>\n",
       "      <td>Salud</td>\n",
       "    </tr>\n",
       "    <tr>\n",
       "      <th>1253</th>\n",
       "      <td>2021-01-25</td>\n",
       "      <td>418-1726-CDI20</td>\n",
       "      <td>418-0114-OC21</td>\n",
       "      <td>418 - HTAL. JUAN A. FERNANDEZ</td>\n",
       "      <td>MINISTERIO DE SALUD</td>\n",
       "      <td>DROGUERIA PROMEDIC SRL</td>\n",
       "      <td>30-70889514-4</td>\n",
       "      <td>1,197,000.00</td>\n",
       "      <td>BARBIJO TIPO MASCARILLA DE ALTA EFICIENCIA N95...</td>\n",
       "      <td>3,000.00</td>\n",
       "      <td>Salud</td>\n",
       "    </tr>\n",
       "    <tr>\n",
       "      <th>1389</th>\n",
       "      <td>2021-03-30</td>\n",
       "      <td>418-0301-CDI21</td>\n",
       "      <td>418-2578-OC21</td>\n",
       "      <td>418 - HTAL. JUAN A. FERNANDEZ</td>\n",
       "      <td>MINISTERIO DE SALUD</td>\n",
       "      <td>DROGUERIA PROMEDIC SRL</td>\n",
       "      <td>30-70889514-4</td>\n",
       "      <td>1,494,000.00</td>\n",
       "      <td>BARBIJO TIPO MASCARILLA DE ALTA EFICIENCIA N95...</td>\n",
       "      <td>6,000.00</td>\n",
       "      <td>Salud</td>\n",
       "    </tr>\n",
       "  </tbody>\n",
       "</table>\n",
       "</div>"
      ],
      "text/plain": [
       "          fecha          pliego orden_de_compra  \\\n",
       "1250 2021-01-25  418-1726-CDI20   418-0114-OC21   \n",
       "1253 2021-01-25  418-1726-CDI20   418-0114-OC21   \n",
       "1389 2021-03-30  418-0301-CDI21   418-2578-OC21   \n",
       "\n",
       "                     unidad_ejecutora         jurisdiccion  \\\n",
       "1250  418 - HTAL. JUAN A. FERNANDEZ    MINISTERIO DE SALUD   \n",
       "1253  418 - HTAL. JUAN A. FERNANDEZ    MINISTERIO DE SALUD   \n",
       "1389  418 - HTAL. JUAN A. FERNANDEZ    MINISTERIO DE SALUD   \n",
       "\n",
       "                   proveedor           cuit      importe  \\\n",
       "1250  DROGUERIA PROMEDIC SRL  30-70889514-4 1,197,000.00   \n",
       "1253  DROGUERIA PROMEDIC SRL  30-70889514-4 1,197,000.00   \n",
       "1389  DROGUERIA PROMEDIC SRL  30-70889514-4 1,494,000.00   \n",
       "\n",
       "                                            descripcion  cantidad  \\\n",
       "1250  BARBIJO TIPO MASCARILLA DE ALTA EFICIENCIA N95...  3,000.00   \n",
       "1253  BARBIJO TIPO MASCARILLA DE ALTA EFICIENCIA N95...  3,000.00   \n",
       "1389  BARBIJO TIPO MASCARILLA DE ALTA EFICIENCIA N95...  6,000.00   \n",
       "\n",
       "     descripcion_rubro  \n",
       "1250             Salud  \n",
       "1253             Salud  \n",
       "1389             Salud  "
      ]
     },
     "execution_count": 61,
     "metadata": {},
     "output_type": "execute_result"
    }
   ],
   "source": [
    "df.loc [(df.descripcion.str.contains('BARBIJO')) & (df.fecha > '2021-01-01')].head(3) # con .head solo visualizamos las primeras 3"
   ]
  },
  {
   "cell_type": "markdown",
   "metadata": {},
   "source": [
    "Para el campo FECHA debemos respetar el formato asignado por Python, en este caso aaaa-mm-dd"
   ]
  },
  {
   "cell_type": "markdown",
   "metadata": {},
   "source": [
    "Seleccionamos los registros cuya unidad_ejecutora contenga la palabra GUTIERREZ o ALVAREZ."
   ]
  },
  {
   "cell_type": "code",
   "execution_count": 62,
   "metadata": {},
   "outputs": [
    {
     "data": {
      "text/html": [
       "<div>\n",
       "<style scoped>\n",
       "    .dataframe tbody tr th:only-of-type {\n",
       "        vertical-align: middle;\n",
       "    }\n",
       "\n",
       "    .dataframe tbody tr th {\n",
       "        vertical-align: top;\n",
       "    }\n",
       "\n",
       "    .dataframe thead th {\n",
       "        text-align: right;\n",
       "    }\n",
       "</style>\n",
       "<table border=\"1\" class=\"dataframe\">\n",
       "  <thead>\n",
       "    <tr style=\"text-align: right;\">\n",
       "      <th></th>\n",
       "      <th>fecha</th>\n",
       "      <th>pliego</th>\n",
       "      <th>orden_de_compra</th>\n",
       "      <th>unidad_ejecutora</th>\n",
       "      <th>jurisdiccion</th>\n",
       "      <th>proveedor</th>\n",
       "      <th>cuit</th>\n",
       "      <th>importe</th>\n",
       "      <th>descripcion</th>\n",
       "      <th>cantidad</th>\n",
       "      <th>descripcion_rubro</th>\n",
       "    </tr>\n",
       "  </thead>\n",
       "  <tbody>\n",
       "    <tr>\n",
       "      <th>0</th>\n",
       "      <td>2020-01-06</td>\n",
       "      <td>410-0571-LPU20</td>\n",
       "      <td>410-5743-OC20</td>\n",
       "      <td>410 - HTAL.TEODORO ALVAREZ</td>\n",
       "      <td>MINISTERIO DE SALUD</td>\n",
       "      <td>EGLIS S.A</td>\n",
       "      <td>30-59401076-7</td>\n",
       "      <td>12,100.00</td>\n",
       "      <td>BOLSA PARA TRANSPORTE DE MUESTRAS BIOLOGICAS ....</td>\n",
       "      <td>2,000.00</td>\n",
       "      <td>Salud</td>\n",
       "    </tr>\n",
       "    <tr>\n",
       "      <th>14</th>\n",
       "      <td>2020-01-06</td>\n",
       "      <td>410-0571-LPU20</td>\n",
       "      <td>410-5743-OC20</td>\n",
       "      <td>410 - HTAL.TEODORO ALVAREZ</td>\n",
       "      <td>MINISTERIO DE SALUD</td>\n",
       "      <td>EGLIS S.A</td>\n",
       "      <td>30-59401076-7</td>\n",
       "      <td>12,100.00</td>\n",
       "      <td>BOLSA PARA TRANSPORTE DE MUESTRAS BIOLOGICAS ....</td>\n",
       "      <td>2,000.00</td>\n",
       "      <td>Salud</td>\n",
       "    </tr>\n",
       "    <tr>\n",
       "      <th>16</th>\n",
       "      <td>2020-01-06</td>\n",
       "      <td>410-0571-LPU20</td>\n",
       "      <td>410-5747-OC20</td>\n",
       "      <td>410 - HTAL.TEODORO ALVAREZ</td>\n",
       "      <td>MINISTERIO DE SALUD</td>\n",
       "      <td>Laboratorios Britania SA</td>\n",
       "      <td>33-64529398-9</td>\n",
       "      <td>102,000.00</td>\n",
       "      <td>HISOPO    Modelo: De plástico y dacron en tubo...</td>\n",
       "      <td>3,000.00</td>\n",
       "      <td>Salud</td>\n",
       "    </tr>\n",
       "    <tr>\n",
       "      <th>26</th>\n",
       "      <td>2020-01-06</td>\n",
       "      <td>410-0571-LPU20</td>\n",
       "      <td>410-5747-OC20</td>\n",
       "      <td>410 - HTAL.TEODORO ALVAREZ</td>\n",
       "      <td>MINISTERIO DE SALUD</td>\n",
       "      <td>Laboratorios Britania SA</td>\n",
       "      <td>33-64529398-9</td>\n",
       "      <td>102,000.00</td>\n",
       "      <td>HISOPO    Modelo: De plástico y dacron en tubo...</td>\n",
       "      <td>3,000.00</td>\n",
       "      <td>Salud</td>\n",
       "    </tr>\n",
       "    <tr>\n",
       "      <th>27</th>\n",
       "      <td>2020-01-06</td>\n",
       "      <td>420-0644-CDI20</td>\n",
       "      <td>420-5813-OC20</td>\n",
       "      <td>420 - HTAL. RICARDO GUTIERREZ</td>\n",
       "      <td>MINISTERIO DE SALUD</td>\n",
       "      <td>MEDIPACK S.A.</td>\n",
       "      <td>30-70816309-7</td>\n",
       "      <td>210,000.00</td>\n",
       "      <td>PARACETAMOL . Modelo: Al 2,4 %, jarabe, en fra...</td>\n",
       "      <td>2,000.00</td>\n",
       "      <td>Salud</td>\n",
       "    </tr>\n",
       "  </tbody>\n",
       "</table>\n",
       "</div>"
      ],
      "text/plain": [
       "        fecha          pliego orden_de_compra  \\\n",
       "0  2020-01-06  410-0571-LPU20   410-5743-OC20   \n",
       "14 2020-01-06  410-0571-LPU20   410-5743-OC20   \n",
       "16 2020-01-06  410-0571-LPU20   410-5747-OC20   \n",
       "26 2020-01-06  410-0571-LPU20   410-5747-OC20   \n",
       "27 2020-01-06  420-0644-CDI20   420-5813-OC20   \n",
       "\n",
       "                   unidad_ejecutora         jurisdiccion  \\\n",
       "0        410 - HTAL.TEODORO ALVAREZ  MINISTERIO DE SALUD   \n",
       "14     410 - HTAL.TEODORO ALVAREZ    MINISTERIO DE SALUD   \n",
       "16     410 - HTAL.TEODORO ALVAREZ    MINISTERIO DE SALUD   \n",
       "26     410 - HTAL.TEODORO ALVAREZ    MINISTERIO DE SALUD   \n",
       "27  420 - HTAL. RICARDO GUTIERREZ    MINISTERIO DE SALUD   \n",
       "\n",
       "                   proveedor           cuit    importe  \\\n",
       "0                  EGLIS S.A  30-59401076-7  12,100.00   \n",
       "14                 EGLIS S.A  30-59401076-7  12,100.00   \n",
       "16  Laboratorios Britania SA  33-64529398-9 102,000.00   \n",
       "26  Laboratorios Britania SA  33-64529398-9 102,000.00   \n",
       "27             MEDIPACK S.A.  30-70816309-7 210,000.00   \n",
       "\n",
       "                                          descripcion  cantidad  \\\n",
       "0   BOLSA PARA TRANSPORTE DE MUESTRAS BIOLOGICAS ....  2,000.00   \n",
       "14  BOLSA PARA TRANSPORTE DE MUESTRAS BIOLOGICAS ....  2,000.00   \n",
       "16  HISOPO    Modelo: De plástico y dacron en tubo...  3,000.00   \n",
       "26  HISOPO    Modelo: De plástico y dacron en tubo...  3,000.00   \n",
       "27  PARACETAMOL . Modelo: Al 2,4 %, jarabe, en fra...  2,000.00   \n",
       "\n",
       "   descripcion_rubro  \n",
       "0              Salud  \n",
       "14             Salud  \n",
       "16             Salud  \n",
       "26             Salud  \n",
       "27             Salud  "
      ]
     },
     "execution_count": 62,
     "metadata": {},
     "output_type": "execute_result"
    }
   ],
   "source": [
    "df.loc [(df.unidad_ejecutora.str.contains('GUTIERREZ')) | (df.unidad_ejecutora.str.contains('ALVAREZ'))].head(5) # con .head solo visualizamos las primeras 3"
   ]
  },
  {
   "cell_type": "markdown",
   "metadata": {},
   "source": [
    "Para Python __BARBIJO, Barbijo y barbijo__, son 3 palabras distintas por lo que debemos tener cuidado con las mayúsculas, minúsculas y acentos.\n",
    "Si queremos que la función str.contains NO DISTINGA MAYÚSCULAS y minúsculas, debemos agregarle el parámetro (case=False).\n",
    "Como el símbolo = se usa para asignar un valor en Python, al comparar textos debemos utilizar == para preguntar si es distinto."
   ]
  },
  {
   "cell_type": "markdown",
   "metadata": {},
   "source": [
    "- Seleccionemos los registros que contengan \"SALUD\" en el campo ['Jurisdicción'] y que NO CONTENGAN \"SALUD\" en ['descripción_rubro']:"
   ]
  },
  {
   "cell_type": "code",
   "execution_count": 66,
   "metadata": {},
   "outputs": [
    {
     "data": {
      "text/html": [
       "<div>\n",
       "<style scoped>\n",
       "    .dataframe tbody tr th:only-of-type {\n",
       "        vertical-align: middle;\n",
       "    }\n",
       "\n",
       "    .dataframe tbody tr th {\n",
       "        vertical-align: top;\n",
       "    }\n",
       "\n",
       "    .dataframe thead th {\n",
       "        text-align: right;\n",
       "    }\n",
       "</style>\n",
       "<table border=\"1\" class=\"dataframe\">\n",
       "  <thead>\n",
       "    <tr style=\"text-align: right;\">\n",
       "      <th></th>\n",
       "      <th>fecha</th>\n",
       "      <th>pliego</th>\n",
       "      <th>orden_de_compra</th>\n",
       "      <th>unidad_ejecutora</th>\n",
       "      <th>jurisdiccion</th>\n",
       "      <th>proveedor</th>\n",
       "      <th>cuit</th>\n",
       "      <th>importe</th>\n",
       "      <th>descripcion</th>\n",
       "      <th>cantidad</th>\n",
       "      <th>descripcion_rubro</th>\n",
       "    </tr>\n",
       "  </thead>\n",
       "  <tbody>\n",
       "    <tr>\n",
       "      <th>19</th>\n",
       "      <td>2020-01-06</td>\n",
       "      <td>401-0590-CDI20</td>\n",
       "      <td>401-5845-OC20</td>\n",
       "      <td>401 - MINISTERIO DE SALUD</td>\n",
       "      <td>MINISTERIO DE SALUD</td>\n",
       "      <td>PROPATO HNOS. S.A.I.C.</td>\n",
       "      <td>30-55425869-3</td>\n",
       "      <td>1,482,855.00</td>\n",
       "      <td>ANTIPARRA DE SEGURIDAD BIOLOGICA . Modelo: Par...</td>\n",
       "      <td>1,900.00</td>\n",
       "      <td>Seguridad</td>\n",
       "    </tr>\n",
       "    <tr>\n",
       "      <th>22</th>\n",
       "      <td>2020-01-06</td>\n",
       "      <td>401-0590-CDI20</td>\n",
       "      <td>401-5845-OC20</td>\n",
       "      <td>401 - MINISTERIO DE SALUD</td>\n",
       "      <td>MINISTERIO DE SALUD</td>\n",
       "      <td>PROPATO HNOS. S.A.I.C.</td>\n",
       "      <td>30-55425869-3</td>\n",
       "      <td>1,482,855.00</td>\n",
       "      <td>ANTIPARRA DE SEGURIDAD BIOLOGICA . Modelo: Par...</td>\n",
       "      <td>1,900.00</td>\n",
       "      <td>Seguridad</td>\n",
       "    </tr>\n",
       "    <tr>\n",
       "      <th>43</th>\n",
       "      <td>2020-02-06</td>\n",
       "      <td>623-1394-LPU18</td>\n",
       "      <td>410-5863-OC20</td>\n",
       "      <td>410 - HTAL.TEODORO ALVAREZ</td>\n",
       "      <td>MINISTERIO DE SALUD</td>\n",
       "      <td>Servicios para la Higiene S.A</td>\n",
       "      <td>30-71158542-3</td>\n",
       "      <td>23,425.00</td>\n",
       "      <td>AGUA LAVANDINA (HIPOCLORITO DE SODIO) Líquido ...</td>\n",
       "      <td>500.00</td>\n",
       "      <td>Perfumería, Limpieza y Contenedores Comerciale...</td>\n",
       "    </tr>\n",
       "    <tr>\n",
       "      <th>59</th>\n",
       "      <td>2020-02-12</td>\n",
       "      <td>446-1243-LPU20</td>\n",
       "      <td>446-12717-OC20</td>\n",
       "      <td>446 - INSTITUTO DE REHABILITACION PSICOFICA</td>\n",
       "      <td>MINISTERIO DE SALUD</td>\n",
       "      <td>GASES COMPRIMIDOS S.A</td>\n",
       "      <td>30-54398920-3</td>\n",
       "      <td>58,980.00</td>\n",
       "      <td>TUBO PARA OXIGENO Demás especificaciones deber...</td>\n",
       "      <td>2.00</td>\n",
       "      <td>Máquinas y Herramientas</td>\n",
       "    </tr>\n",
       "    <tr>\n",
       "      <th>65</th>\n",
       "      <td>2020-03-06</td>\n",
       "      <td>401-0590-CDI20</td>\n",
       "      <td>401-5942-OC20</td>\n",
       "      <td>401 - MINISTERIO DE SALUD</td>\n",
       "      <td>MINISTERIO DE SALUD</td>\n",
       "      <td>DROGUERIA MARTORANI S.A.</td>\n",
       "      <td>30-70296606-6</td>\n",
       "      <td>1,524,750.00</td>\n",
       "      <td>PROTECTOR FACIAL (MASCARA PARA FILTRO) . Model...</td>\n",
       "      <td>7,500.00</td>\n",
       "      <td>Seguridad</td>\n",
       "    </tr>\n",
       "  </tbody>\n",
       "</table>\n",
       "</div>"
      ],
      "text/plain": [
       "        fecha          pliego orden_de_compra  \\\n",
       "19 2020-01-06  401-0590-CDI20   401-5845-OC20   \n",
       "22 2020-01-06  401-0590-CDI20   401-5845-OC20   \n",
       "43 2020-02-06  623-1394-LPU18   410-5863-OC20   \n",
       "59 2020-02-12  446-1243-LPU20  446-12717-OC20   \n",
       "65 2020-03-06  401-0590-CDI20   401-5942-OC20   \n",
       "\n",
       "                               unidad_ejecutora         jurisdiccion  \\\n",
       "19                    401 - MINISTERIO DE SALUD  MINISTERIO DE SALUD   \n",
       "22                    401 - MINISTERIO DE SALUD  MINISTERIO DE SALUD   \n",
       "43                 410 - HTAL.TEODORO ALVAREZ    MINISTERIO DE SALUD   \n",
       "59  446 - INSTITUTO DE REHABILITACION PSICOFICA  MINISTERIO DE SALUD   \n",
       "65                    401 - MINISTERIO DE SALUD  MINISTERIO DE SALUD   \n",
       "\n",
       "                         proveedor           cuit      importe  \\\n",
       "19          PROPATO HNOS. S.A.I.C.  30-55425869-3 1,482,855.00   \n",
       "22          PROPATO HNOS. S.A.I.C.  30-55425869-3 1,482,855.00   \n",
       "43  Servicios para la Higiene S.A   30-71158542-3    23,425.00   \n",
       "59           GASES COMPRIMIDOS S.A  30-54398920-3    58,980.00   \n",
       "65        DROGUERIA MARTORANI S.A.  30-70296606-6 1,524,750.00   \n",
       "\n",
       "                                          descripcion  cantidad  \\\n",
       "19  ANTIPARRA DE SEGURIDAD BIOLOGICA . Modelo: Par...  1,900.00   \n",
       "22  ANTIPARRA DE SEGURIDAD BIOLOGICA . Modelo: Par...  1,900.00   \n",
       "43  AGUA LAVANDINA (HIPOCLORITO DE SODIO) Líquido ...    500.00   \n",
       "59  TUBO PARA OXIGENO Demás especificaciones deber...      2.00   \n",
       "65  PROTECTOR FACIAL (MASCARA PARA FILTRO) . Model...  7,500.00   \n",
       "\n",
       "                                    descripcion_rubro  \n",
       "19                                         Seguridad   \n",
       "22                                         Seguridad   \n",
       "43  Perfumería, Limpieza y Contenedores Comerciale...  \n",
       "59                            Máquinas y Herramientas  \n",
       "65                                         Seguridad   "
      ]
     },
     "execution_count": 66,
     "metadata": {},
     "output_type": "execute_result"
    }
   ],
   "source": [
    "df.loc [(df.jurisdiccion.str.contains('salud', case=False)) & (df.descripcion_rubro != 'Salud')].head() # La funcion str.contains() es sensible a MAYUSCULAS Y MINUSCULAS"
   ]
  },
  {
   "cell_type": "markdown",
   "metadata": {},
   "source": [
    "- Seleccionemos los registros que contengan 'MINISTERIO DE SALUD' en el campo jusrisdicción y que CONTENGAN \"BARBIJO\" en descripción:"
   ]
  },
  {
   "cell_type": "code",
   "execution_count": 65,
   "metadata": {},
   "outputs": [
    {
     "data": {
      "text/html": [
       "<div>\n",
       "<style scoped>\n",
       "    .dataframe tbody tr th:only-of-type {\n",
       "        vertical-align: middle;\n",
       "    }\n",
       "\n",
       "    .dataframe tbody tr th {\n",
       "        vertical-align: top;\n",
       "    }\n",
       "\n",
       "    .dataframe thead th {\n",
       "        text-align: right;\n",
       "    }\n",
       "</style>\n",
       "<table border=\"1\" class=\"dataframe\">\n",
       "  <thead>\n",
       "    <tr style=\"text-align: right;\">\n",
       "      <th></th>\n",
       "      <th>fecha</th>\n",
       "      <th>pliego</th>\n",
       "      <th>orden_de_compra</th>\n",
       "      <th>unidad_ejecutora</th>\n",
       "      <th>jurisdiccion</th>\n",
       "      <th>proveedor</th>\n",
       "      <th>cuit</th>\n",
       "      <th>importe</th>\n",
       "      <th>descripcion</th>\n",
       "      <th>cantidad</th>\n",
       "      <th>descripcion_rubro</th>\n",
       "    </tr>\n",
       "  </thead>\n",
       "  <tbody>\n",
       "    <tr>\n",
       "      <th>73</th>\n",
       "      <td>2020-03-07</td>\n",
       "      <td>401-0794-CDI20</td>\n",
       "      <td>401-7004-OC20</td>\n",
       "      <td>401 - MINISTERIO DE SALUD</td>\n",
       "      <td>MINISTERIO DE SALUD</td>\n",
       "      <td>MACOR INSUMOS HOSPITALARIOS SRL</td>\n",
       "      <td>33-66036317-9</td>\n",
       "      <td>1,003,140.00</td>\n",
       "      <td>BARBIJO TIPO MASCARILLA DE ALTA EFICIENCIA N95...</td>\n",
       "      <td>3,000.00</td>\n",
       "      <td>Salud</td>\n",
       "    </tr>\n",
       "    <tr>\n",
       "      <th>149</th>\n",
       "      <td>2020-04-09</td>\n",
       "      <td>412-1925-CME20</td>\n",
       "      <td>412-9331-OC20</td>\n",
       "      <td>412 - HTAL. COSME ARGERICH</td>\n",
       "      <td>MINISTERIO DE SALUD</td>\n",
       "      <td>DROGUERIA PROMEDIC SRL</td>\n",
       "      <td>30-70889514-4</td>\n",
       "      <td>780,000.00</td>\n",
       "      <td>BARBIJO TIPO MASCARILLA DE ALTA EFICIENCIA N95...</td>\n",
       "      <td>1,200.00</td>\n",
       "      <td>Salud</td>\n",
       "    </tr>\n",
       "    <tr>\n",
       "      <th>545</th>\n",
       "      <td>2020-06-11</td>\n",
       "      <td>418-1411-CDI20</td>\n",
       "      <td>418-11714-OC20</td>\n",
       "      <td>418 - HTAL. JUAN A. FERNANDEZ</td>\n",
       "      <td>MINISTERIO DE SALUD</td>\n",
       "      <td>DROGUERIA PROMEDIC SRL</td>\n",
       "      <td>30-70889514-4</td>\n",
       "      <td>975,000.00</td>\n",
       "      <td>BARBIJO TIPO MASCARILLA DE ALTA EFICIENCIA N95...</td>\n",
       "      <td>1,500.00</td>\n",
       "      <td>Salud</td>\n",
       "    </tr>\n",
       "    <tr>\n",
       "      <th>680</th>\n",
       "      <td>2020-07-17</td>\n",
       "      <td>401-0794-CDI20</td>\n",
       "      <td>401-7495-OC20</td>\n",
       "      <td>401 - MINISTERIO DE SALUD</td>\n",
       "      <td>MINISTERIO DE SALUD</td>\n",
       "      <td>MACOR INSUMOS HOSPITALARIOS SRL</td>\n",
       "      <td>33-66036317-9</td>\n",
       "      <td>501,570.00</td>\n",
       "      <td>BARBIJO TIPO MASCARILLA DE ALTA EFICIENCIA N95...</td>\n",
       "      <td>1,500.00</td>\n",
       "      <td>Salud</td>\n",
       "    </tr>\n",
       "    <tr>\n",
       "      <th>841</th>\n",
       "      <td>2020-08-31</td>\n",
       "      <td>418-1210-CDI20</td>\n",
       "      <td>418-9120-OC20</td>\n",
       "      <td>418 - HTAL. JUAN A. FERNANDEZ</td>\n",
       "      <td>MINISTERIO DE SALUD</td>\n",
       "      <td>Medibel SA</td>\n",
       "      <td>33-69039665-9</td>\n",
       "      <td>1,341,000.00</td>\n",
       "      <td>BARBIJO TIPO MASCARILLA DE ALTA EFICIENCIA N95...</td>\n",
       "      <td>3,000.00</td>\n",
       "      <td>Salud</td>\n",
       "    </tr>\n",
       "  </tbody>\n",
       "</table>\n",
       "</div>"
      ],
      "text/plain": [
       "         fecha          pliego orden_de_compra  \\\n",
       "73  2020-03-07  401-0794-CDI20   401-7004-OC20   \n",
       "149 2020-04-09  412-1925-CME20   412-9331-OC20   \n",
       "545 2020-06-11  418-1411-CDI20  418-11714-OC20   \n",
       "680 2020-07-17  401-0794-CDI20   401-7495-OC20   \n",
       "841 2020-08-31  418-1210-CDI20   418-9120-OC20   \n",
       "\n",
       "                    unidad_ejecutora         jurisdiccion  \\\n",
       "73         401 - MINISTERIO DE SALUD  MINISTERIO DE SALUD   \n",
       "149     412 - HTAL. COSME ARGERICH    MINISTERIO DE SALUD   \n",
       "545  418 - HTAL. JUAN A. FERNANDEZ    MINISTERIO DE SALUD   \n",
       "680        401 - MINISTERIO DE SALUD  MINISTERIO DE SALUD   \n",
       "841  418 - HTAL. JUAN A. FERNANDEZ    MINISTERIO DE SALUD   \n",
       "\n",
       "                           proveedor           cuit      importe  \\\n",
       "73   MACOR INSUMOS HOSPITALARIOS SRL  33-66036317-9 1,003,140.00   \n",
       "149           DROGUERIA PROMEDIC SRL  30-70889514-4   780,000.00   \n",
       "545           DROGUERIA PROMEDIC SRL  30-70889514-4   975,000.00   \n",
       "680  MACOR INSUMOS HOSPITALARIOS SRL  33-66036317-9   501,570.00   \n",
       "841                       Medibel SA  33-69039665-9 1,341,000.00   \n",
       "\n",
       "                                           descripcion  cantidad  \\\n",
       "73   BARBIJO TIPO MASCARILLA DE ALTA EFICIENCIA N95...  3,000.00   \n",
       "149  BARBIJO TIPO MASCARILLA DE ALTA EFICIENCIA N95...  1,200.00   \n",
       "545  BARBIJO TIPO MASCARILLA DE ALTA EFICIENCIA N95...  1,500.00   \n",
       "680  BARBIJO TIPO MASCARILLA DE ALTA EFICIENCIA N95...  1,500.00   \n",
       "841  BARBIJO TIPO MASCARILLA DE ALTA EFICIENCIA N95...  3,000.00   \n",
       "\n",
       "    descripcion_rubro  \n",
       "73              Salud  \n",
       "149             Salud  \n",
       "545             Salud  \n",
       "680             Salud  \n",
       "841             Salud  "
      ]
     },
     "execution_count": 65,
     "metadata": {},
     "output_type": "execute_result"
    }
   ],
   "source": [
    "df.loc [       (df.descripcion_rubro == 'Salud') & (df.descripcion.str.contains('BARBIJO', case=False))].head() # En Python = se utiliza para valores numéricos. Para comparar variables se utiliza =="
   ]
  },
  {
   "cell_type": "markdown",
   "metadata": {},
   "source": [
    "Para finalizar esta sección, combinamos un filtro por dos condiciones, y al finalizar, contaremos la frencuencia con value_counts.\n",
    "Visualizamos cuantas ordenes de compra de barbijos tuvo cada unidad ejecutora antes del 1/10/2020."
   ]
  },
  {
   "cell_type": "code",
   "execution_count": 64,
   "metadata": {},
   "outputs": [
    {
     "data": {
      "text/plain": [
       "unidad_ejecutora\n",
       "401 - MINISTERIO DE SALUD             2\n",
       "412 - HTAL. COSME ARGERICH            2\n",
       "418 - HTAL. JUAN A. FERNANDEZ         2\n",
       "431 - HTAL. BERNARDINO RIVADAVIA      1\n",
       "Name: count, dtype: Int64"
      ]
     },
     "execution_count": 64,
     "metadata": {},
     "output_type": "execute_result"
    }
   ],
   "source": [
    "df.unidad_ejecutora.loc [   (df.fecha < '2020-10-01') & (df.descripcion.str.contains('BARBIJO', case=False))].value_counts()"
   ]
  },
  {
   "cell_type": "markdown",
   "metadata": {},
   "source": [
    "#### __Limpieza de datos:__\n",
    "Análisis de valores duplicados y valores faltantes:"
   ]
  },
  {
   "cell_type": "markdown",
   "metadata": {},
   "source": [
    "Este proceso que cambiará en función de cada base de datos y cada objetivo que tengamos. Es importante reflexionar para cada columna que impacto tendría un dato faltante o que datos deben repetirse para considerar un registro duplicado.\n",
    "En ese caso, tomaremos como duplicado aquellos registros que coincidan en todas sus columnas. Como primer paso, vamos a eliminar las filas con valores faltantes (NaN) y que podrían estar ocasionando algunos dulplicados."
   ]
  },
  {
   "cell_type": "markdown",
   "metadata": {},
   "source": [
    "__Utilizamos la función df.duplicated()__ para buscar registros duplicados en un DataFrame:\n",
    "Esta función nos dice si un registro tiene duplicados, pero NO sabremos de esta forma cuantas veces se encuentra repetido:"
   ]
  },
  {
   "cell_type": "code",
   "execution_count": 67,
   "metadata": {},
   "outputs": [
    {
     "name": "stdout",
     "output_type": "stream",
     "text": [
      "La base tiene:  289  registros duplicados\n"
     ]
    }
   ],
   "source": [
    "# La función len() nos da el largo, es decir, la cantidad de registros.\n",
    "print('La base tiene: ',len(df[df.duplicated()]), ' registros duplicados')"
   ]
  },
  {
   "cell_type": "code",
   "execution_count": null,
   "metadata": {},
   "outputs": [],
   "source": []
  }
 ],
 "metadata": {
  "kernelspec": {
   "display_name": "Python 3 (ipykernel)",
   "language": "python",
   "name": "python3"
  },
  "language_info": {
   "codemirror_mode": {
    "name": "ipython",
    "version": 3
   },
   "file_extension": ".py",
   "mimetype": "text/x-python",
   "name": "python",
   "nbconvert_exporter": "python",
   "pygments_lexer": "ipython3",
   "version": "3.13.1"
  }
 },
 "nbformat": 4,
 "nbformat_minor": 2
}
