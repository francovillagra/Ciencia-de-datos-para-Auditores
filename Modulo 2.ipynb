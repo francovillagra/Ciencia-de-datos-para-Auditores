{
 "cells": [
  {
   "cell_type": "markdown",
   "metadata": {},
   "source": [
    "#### __Taller I: Ciencia de Datos para Auditores 2024/2025__\n",
    "##### Duración: 2hs\n",
    "\n",
    "**Temas**:\n",
    "\n",
    "- Primer paso: Planificar el objetivo y entender el negocio.\n",
    "- Porqué Python? Diferentes entornos. Porque Google Collab? Que es un notebook? Texto enriquecido. Librerias.\n",
    "- Leer bases de datos de diferentes orígenes. Caso 1) Local CSV o Excel. Caso 2) De la nube una base de datos abierta.\n",
    "- Introducción a Pandas: head, tall, metodos estadísticos, Subgrupos con una o mas condiciones. Introducción al análisis exploratorio.\n",
    "- Limpieza de datos: datos duplicados, datos faltantes y posibles soluciones.\n",
    "- Ordenando, agrupando y creando tablas pivot.\n",
    "- Muestreo aleatorio en base a un nivel de confianza y margen de error parametrizado.\n",
    "- Ley de Bedford.\n",
    "- Guardar bases de datos en CSV y Excel."
   ]
  },
  {
   "cell_type": "markdown",
   "metadata": {},
   "source": [
    "#### __Introducción: Planificando el objetivo y entendiendo el negocio. Preguntas de Auditoría.__\n",
    "Primeros pasos con Python. Entornos. Librerías."
   ]
  },
  {
   "cell_type": "markdown",
   "metadata": {},
   "source": [
    "#### __Instalando Librerías__\n",
    "\n",
    "La primera vez que utilicemos una librería, debemos instalarla (si utilizamos Google Colab, las librerías más populares se encuentran pre instaladas)\n",
    "Para instalar una librería, ejecutaremos en una celda de código: *!pip install libreria*"
   ]
  },
  {
   "cell_type": "code",
   "execution_count": 1,
   "metadata": {},
   "outputs": [],
   "source": [
    "# Para insertar un comentario en una celda de códgio, debemos anteponer el #\n",
    "\n",
    "# ! pip install seaborn\n",
    "# ! pip install pandas\n",
    "# ! pip install matplotlib\n",
    "# ! pip install openpyxl"
   ]
  },
  {
   "cell_type": "markdown",
   "metadata": {},
   "source": [
    "#### __Importamos las librerías__"
   ]
  },
  {
   "cell_type": "code",
   "execution_count": 9,
   "metadata": {},
   "outputs": [],
   "source": [
    "# Importamos las librerías a utilizar\n",
    "\n",
    "import numpy as np  # Librería más utilizada para funciones numéricas\n",
    "import pandas as pd  # Librería para gestionar estructuras de datos en formato de filas y columnas\n",
    "import matplotlib.pyplot as plt  # Librería para realizar gráficos\n",
    "from openpyxl import Workbook  # Librería para exportar Excel\n",
    "\n",
    "# Ocultamos los mensajes de advertencia\n",
    "import warnings\n",
    "warnings.filterwarnings('ignore')\n",
    "\n",
    "import sys\n",
    "import math\n",
    "\n",
    "# Ajustamos algunos parámetros en Pandas\n",
    "pd.options.display.max_rows = 99  # Establece el límite de filas a mostrar de un DataFrame\n",
    "# Ajustamos la visualización de números con decimales, separando los miles y dejando solo 2 decimales\n",
    "pd.set_option('display.float_format', '{:,.2f}'.format)\n"
   ]
  },
  {
   "cell_type": "code",
   "execution_count": 7,
   "metadata": {},
   "outputs": [
    {
     "name": "stdout",
     "output_type": "stream",
     "text": [
      "Collecting openpyxl\n",
      "  Using cached openpyxl-3.1.5-py2.py3-none-any.whl.metadata (2.5 kB)\n",
      "Collecting et-xmlfile (from openpyxl)\n",
      "  Using cached et_xmlfile-2.0.0-py3-none-any.whl.metadata (2.7 kB)\n",
      "Using cached openpyxl-3.1.5-py2.py3-none-any.whl (250 kB)\n",
      "Using cached et_xmlfile-2.0.0-py3-none-any.whl (18 kB)\n",
      "Installing collected packages: et-xmlfile, openpyxl\n",
      "Successfully installed et-xmlfile-2.0.0 openpyxl-3.1.5\n"
     ]
    },
    {
     "name": "stderr",
     "output_type": "stream",
     "text": [
      "\n",
      "[notice] A new release of pip is available: 24.3.1 -> 25.0\n",
      "[notice] To update, run: python.exe -m pip install --upgrade pip\n"
     ]
    }
   ],
   "source": [
    "!pip install openpyxl"
   ]
  },
  {
   "cell_type": "markdown",
   "metadata": {},
   "source": [
    "#### __Leer bases de datos de diferentes orígenes.__\n",
    "El proceso de leer y empezar a trabajar con una base de datos depende de sus características, tales como configuración correcta de símbolos (encoding), especificación de sus columnas y tipos de datos. Para el caso de archivos de texto con un delimitador (csv) es importante especificar correctamente el mismo.\n",
    "\n",
    "Podemos optar por lee una Base de Datos guardada localmente por lo que les sugerimos guaradr la Base de Datos en el mismo directorio que nuestro Notebook (.ipnb).\n",
    "\n",
    "También les dejamos aquí un ejemplo para leer la misma Base de Datos desde el portal de datos abiertos de la Ciudad de Buenos Aires en la Nube."
   ]
  },
  {
   "cell_type": "code",
   "execution_count": null,
   "metadata": {},
   "outputs": [],
   "source": [
    "#CSV = pd.read_csv('C:\\Users\\fvillagra\\Downloads\\CIENCIA DE DATOS PARA AUDITORES\\compras-coronavirus.csv' ,sep=';', encoding-'iso-8859-1')"
   ]
  },
  {
   "cell_type": "markdown",
   "metadata": {},
   "source": [
    "##### __Como vemos en el ejemplo de arriba, a veces hay que especificar el separador y/o encoding.__"
   ]
  },
  {
   "cell_type": "code",
   "execution_count": null,
   "metadata": {},
   "outputs": [],
   "source": [
    "# Montar Google Drive para entorno Colab\n",
    "from google.colab import drive\n",
    "drive.mount('/content/gdrive')"
   ]
  },
  {
   "cell_type": "code",
   "execution_count": null,
   "metadata": {},
   "outputs": [],
   "source": [
    "CSV = pd.read_csv('/content/gdrive/MyDrive/taller_python/db.csv')"
   ]
  },
  {
   "cell_type": "markdown",
   "metadata": {},
   "source": [
    "#### __Introducción a Pandas__\n",
    "Head, Tail, información general, accesos, métodos estadísticos, outliers y subconjuntos de datos con condiciones.\n",
    "\n",
    "Pandas es una librería de Python especializada en el manejo y análisis de estructuras de datos: https://pandas.pydata.org/"
   ]
  }
 ],
 "metadata": {
  "kernelspec": {
   "display_name": "Python 3 (ipykernel)",
   "language": "python",
   "name": "python3"
  }
 },
 "nbformat": 4,
 "nbformat_minor": 2
}
